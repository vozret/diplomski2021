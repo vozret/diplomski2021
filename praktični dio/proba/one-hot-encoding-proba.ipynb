{
 "metadata": {
  "language_info": {
   "codemirror_mode": {
    "name": "ipython",
    "version": 3
   },
   "file_extension": ".py",
   "mimetype": "text/x-python",
   "name": "python",
   "nbconvert_exporter": "python",
   "pygments_lexer": "ipython3",
   "version": "3.8.3-final"
  },
  "orig_nbformat": 2,
  "kernelspec": {
   "name": "python3",
   "display_name": "Python 3.8.3 64-bit ('base': conda)",
   "metadata": {
    "interpreter": {
     "hash": "dca0ade3e726a953b501b15e8e990130d2b7799f14cfd9f4271676035ebe5511"
    }
   }
  }
 },
 "nbformat": 4,
 "nbformat_minor": 2,
 "cells": [
  {
   "cell_type": "code",
   "execution_count": 2,
   "metadata": {},
   "outputs": [],
   "source": [
    "classes = {'unknown': (0,0,0),'smoke': (23, 23, 23), 'clouds and fog': (46, 46, 46), 'sun and sun effects': (69, 69, 69), 'sky': (92, 92, 92), 'sea': (115, 115, 115), 'distant landscape': (138, 138, 138), 'rocks': (161, 161, 161), 'distant vegetation': (184, 184, 184), 'close vegetation': (207, 207, 207), 'low vegetation and farms': (230, 230, 230), 'buildings': (253, 253, 253)}"
   ]
  },
  {
   "cell_type": "code",
   "execution_count": 3,
   "metadata": {},
   "outputs": [
    {
     "output_type": "stream",
     "name": "stdout",
     "text": [
      "12\n"
     ]
    }
   ],
   "source": [
    "print(len(classes))"
   ]
  },
  {
   "cell_type": "code",
   "execution_count": 4,
   "metadata": {},
   "outputs": [
    {
     "output_type": "stream",
     "name": "stdout",
     "text": [
      "[(0, 0, 0), (23, 23, 23), (46, 46, 46), (69, 69, 69), (92, 92, 92), (115, 115, 115), (138, 138, 138), (161, 161, 161), (184, 184, 184), (207, 207, 207), (230, 230, 230), (253, 253, 253)]\n"
     ]
    }
   ],
   "source": [
    "list_of_class_names= []\n",
    "list_of_RGBs = []\n",
    "\n",
    "for element in classes:\n",
    "    # print(element)\n",
    "    list_of_class_names.append(element)\n",
    "    RGB_value = classes.get(element)\n",
    "    # print(RGB_value)\n",
    "    list_of_RGBs.append(RGB_value)\n",
    "\n",
    "print(list_of_RGBs)"
   ]
  },
  {
   "cell_type": "code",
   "execution_count": 5,
   "metadata": {},
   "outputs": [
    {
     "output_type": "execute_result",
     "data": {
      "text/plain": [
       "['unknown',\n",
       " 'smoke',\n",
       " 'clouds and fog',\n",
       " 'sun and sun effects',\n",
       " 'sky',\n",
       " 'sea',\n",
       " 'distant landscape',\n",
       " 'rocks',\n",
       " 'distant vegetation',\n",
       " 'close vegetation',\n",
       " 'low vegetation and farms',\n",
       " 'buildings']"
      ]
     },
     "metadata": {},
     "execution_count": 5
    }
   ],
   "source": [
    "list_of_class_names"
   ]
  },
  {
   "cell_type": "code",
   "execution_count": 6,
   "metadata": {},
   "outputs": [
    {
     "output_type": "stream",
     "name": "stdout",
     "text": [
      "['unknown', 'smoke', 'clouds and fog', 'sun and sun effects', 'sky', 'sea', 'distant landscape', 'rocks', 'distant vegetation', 'close vegetation', 'low vegetation and farms', 'buildings']\n\n[(0, 0, 0), (23, 23, 23), (46, 46, 46), (69, 69, 69), (92, 92, 92), (115, 115, 115), (138, 138, 138), (161, 161, 161), (184, 184, 184), (207, 207, 207), (230, 230, 230), (253, 253, 253)]\n"
     ]
    }
   ],
   "source": [
    "print(f\"{list_of_class_names}\\n\")\n",
    "print(f\"{list_of_RGBs}\")"
   ]
  },
  {
   "cell_type": "code",
   "execution_count": 7,
   "metadata": {},
   "outputs": [],
   "source": [
    "import cv2\n",
    "import numpy as np\n",
    "import matplotlib.pyplot as plt\n",
    "import PIL"
   ]
  },
  {
   "cell_type": "code",
   "execution_count": 8,
   "metadata": {},
   "outputs": [],
   "source": [
    "data_directory_labels = \".../proba/train_labels\"\n",
    "data_directory_images = \".../proba/train_images\""
   ]
  },
  {
   "cell_type": "code",
   "execution_count": 9,
   "metadata": {},
   "outputs": [
    {
     "output_type": "stream",
     "name": "stdout",
     "text": [
      "56\n"
     ]
    }
   ],
   "source": [
    "# sortiranje tog većeg skupa slika\n",
    "# nije bitno jesu li slike \"dobro\" sortirane\n",
    "# bitno je da su originalne i gt slike sortirane na isti način\n",
    "# radi raspodjele oznaka\n",
    "\n",
    "\n",
    "my_images = []\n",
    "dirFiles = os.listdir(data_directory_images)\n",
    "dirFiles.sort()\n",
    "sorted(dirFiles)\n",
    "\n",
    "for files in dirFiles: #filter out all non jpgs\n",
    "    if '.jpg' in files:\n",
    "        my_images.append(files)\n",
    "print(len(my_images))\n",
    "# print(my_images)"
   ]
  },
  {
   "cell_type": "code",
   "execution_count": 10,
   "metadata": {},
   "outputs": [
    {
     "output_type": "stream",
     "name": "stdout",
     "text": [
      "56\n"
     ]
    }
   ],
   "source": [
    "my_labels_images = []\n",
    "dirFiles = os.listdir(data_directory_labels)\n",
    "dirFiles.sort()\n",
    "sorted(dirFiles)\n",
    "\n",
    "for files in dirFiles:\n",
    "    if '.bmp' in files:\n",
    "        my_labels_images.append(files)\n",
    "print(len(my_labels_images))\n",
    "#print(my_labels_images)"
   ]
  },
  {
   "cell_type": "code",
   "execution_count": 11,
   "metadata": {},
   "outputs": [
    {
     "output_type": "stream",
     "name": "stdout",
     "text": [
      "extracting classes from sorted train lables array...\n",
      "\n",
      "56\n"
     ]
    }
   ],
   "source": [
    "# izvlačenje boja bez prikazivanja klasa slika\n",
    "# napravljeno kao funkcija koja prima niz s oznakama\n",
    "# iz kojih se izvlače klase, odnosno RGB vrijednosti\n",
    "\n",
    "# ovaj niz će sadržavat nizove s labelama za svaku od slika iz foldera za treniranje i testiranje\n",
    "train_labels_colors = []\n",
    "\n",
    "def get_all_colors(lables_list, path_to_array, list_to_save_to):\n",
    "    for img in lables_list:\n",
    "        path_string = os.path.join(path_to_array, img)\n",
    "        colors = PIL.Image.open(path_string).getcolors(256)\n",
    "\n",
    "        list_to_save_to.append(colors)\n",
    "\n",
    "# ekstrahiranje klasa iz gt slika\n",
    "\n",
    "print(\"extracting classes from sorted train lables array...\\n\")\n",
    "get_all_colors(my_labels_images, data_directory_labels, train_labels_colors)\n",
    "print(len(train_labels_colors))"
   ]
  },
  {
   "cell_type": "code",
   "execution_count": 12,
   "metadata": {},
   "outputs": [
    {
     "output_type": "stream",
     "name": "stdout",
     "text": [
      "[(65836, (253, 253, 253)), (2760, (207, 207, 207)), (46035, (184, 184, 184)), (207388, (138, 138, 138)), (21067, (92, 92, 92)), (38697, (46, 46, 46)), (60585, (0, 0, 0))]\n"
     ]
    }
   ],
   "source": [
    "print(train_labels_colors[3])"
   ]
  },
  {
   "cell_type": "code",
   "execution_count": 13,
   "metadata": {},
   "outputs": [
    {
     "output_type": "stream",
     "name": "stdout",
     "text": [
      "extracting only the RGB values for train labels...\nTrain labels list has 56 elements\n\n"
     ]
    }
   ],
   "source": [
    "train_labels_list = []\n",
    "\n",
    "def colors_to_list(list_with_tuples, list_to_save_to):\n",
    "    for color in range(len(list_with_tuples)):\n",
    "        temp_list = []\n",
    "        for class_color in range(len(list_with_tuples[color])):\n",
    "            temp_list.append(list_with_tuples[color][class_color][1])\n",
    "        list_to_save_to.append(temp_list)\n",
    "\n",
    "print(\"extracting only the RGB values for train labels...\")\n",
    "colors_to_list(train_labels_colors, train_labels_list)\n",
    "print(f\"Train labels list has {len(train_labels_list)} elements\\n\")"
   ]
  },
  {
   "cell_type": "code",
   "execution_count": 14,
   "metadata": {},
   "outputs": [
    {
     "output_type": "stream",
     "name": "stdout",
     "text": [
      "56\n"
     ]
    }
   ],
   "source": [
    "print(len(train_labels_list))"
   ]
  },
  {
   "cell_type": "code",
   "execution_count": 15,
   "metadata": {},
   "outputs": [
    {
     "output_type": "stream",
     "name": "stdout",
     "text": [
      "[(253, 253, 253), (207, 207, 207), (184, 184, 184), (138, 138, 138), (92, 92, 92), (46, 46, 46), (0, 0, 0)]\n"
     ]
    }
   ],
   "source": [
    "print(train_labels_list[3])"
   ]
  },
  {
   "cell_type": "code",
   "execution_count": 16,
   "metadata": {},
   "outputs": [
    {
     "output_type": "stream",
     "name": "stdout",
     "text": [
      "['unknown', 'smoke', 'clouds and fog', 'sun and sun effects', 'sky', 'sea', 'distant landscape', 'rocks', 'distant vegetation', 'close vegetation', 'low vegetation and farms', 'buildings']\n"
     ]
    }
   ],
   "source": [
    "print(list_of_class_names)"
   ]
  },
  {
   "cell_type": "code",
   "execution_count": 17,
   "metadata": {},
   "outputs": [
    {
     "output_type": "stream",
     "name": "stdout",
     "text": [
      "[(0, 0, 0), (23, 23, 23), (46, 46, 46), (69, 69, 69), (92, 92, 92), (115, 115, 115), (138, 138, 138), (161, 161, 161), (184, 184, 184), (207, 207, 207), (230, 230, 230), (253, 253, 253)]\n"
     ]
    }
   ],
   "source": [
    "print(list_of_RGBs)"
   ]
  },
  {
   "cell_type": "code",
   "execution_count": 18,
   "metadata": {},
   "outputs": [
    {
     "output_type": "stream",
     "name": "stdout",
     "text": [
      "[(253, 253, 253), (207, 207, 207), (184, 184, 184), (138, 138, 138), (92, 92, 92), (46, 46, 46), (0, 0, 0)]\n"
     ]
    }
   ],
   "source": [
    "print(train_labels_list[3])"
   ]
  },
  {
   "cell_type": "code",
   "execution_count": 19,
   "metadata": {},
   "outputs": [
    {
     "output_type": "stream",
     "name": "stdout",
     "text": [
      "gt_1.bmp\ncolor: (161, 161, 161)\nclass name: rocks\n\ncolor: (115, 115, 115)\nclass name: sea\n\ncolor: (23, 23, 23)\nclass name: smoke\n\ncolor: (184, 184, 184)\nclass name: distant vegetation\n\ncolor: (92, 92, 92)\nclass name: sky\n\ncolor: (46, 46, 46)\nclass name: clouds and fog\n\ncolor: (0, 0, 0)\nclass name: unknown\n\n\n\n************************************************\n\n\ngt_11.bmp\ncolor: (253, 253, 253)\nclass name: buildings\n\ncolor: (161, 161, 161)\nclass name: rocks\n\ncolor: (184, 184, 184)\nclass name: distant vegetation\n\ncolor: (138, 138, 138)\nclass name: distant landscape\n\ncolor: (0, 0, 0)\nclass name: unknown\n\n\n\n************************************************\n\n\ngt_12.bmp\ncolor: (253, 253, 253)\nclass name: buildings\n\ncolor: (69, 69, 69)\nclass name: sun and sun effects\n\ncolor: (184, 184, 184)\nclass name: distant vegetation\n\ncolor: (138, 138, 138)\nclass name: distant landscape\n\ncolor: (92, 92, 92)\nclass name: sky\n\ncolor: (0, 0, 0)\nclass name: unknown\n\n\n\n************************************************\n\n\n"
     ]
    }
   ],
   "source": [
    "colors_in_images = []\n",
    "\n",
    "def get_colors():\n",
    "    for img in my_labels_images[:3]:\n",
    "        path_string = os.path.join(data_directory_labels, img)\n",
    "        colors = PIL.Image.open(path_string).getcolors(256)\n",
    "        print(img)\n",
    "        for color in colors:\n",
    "            print(f\"color: {color[1]}\")\n",
    "            for key, value in classes.items():\n",
    "                if value == color[1]:\n",
    "                    print(f\"class name: {key}\\n\")\n",
    "        print(\"\\n\")\n",
    "        print(\"************************************************\")\n",
    "        print(\"\\n\")\n",
    "\n",
    "        colors_in_images.append(colors)\n",
    "\n",
    "get_colors()"
   ]
  },
  {
   "cell_type": "code",
   "execution_count": 20,
   "metadata": {},
   "outputs": [
    {
     "output_type": "stream",
     "name": "stdout",
     "text": [
      "[]\n(0, 0, 0)\nThere is a value\n[1]\n[1, 0]\n(46, 46, 46)\nThere is a value\n[1, 0, 1]\n[1, 0, 1, 0]\n(92, 92, 92)\nThere is a value\n[1, 0, 1, 0, 1]\n[1, 0, 1, 0, 1, 0]\n(138, 138, 138)\nThere is a value\n[1, 0, 1, 0, 1, 0, 1]\n[1, 0, 1, 0, 1, 0, 1, 0]\n(184, 184, 184)\nThere is a value\n[1, 0, 1, 0, 1, 0, 1, 0, 1]\n(207, 207, 207)\nThere is a value\n[1, 0, 1, 0, 1, 0, 1, 0, 1, 1]\n[1, 0, 1, 0, 1, 0, 1, 0, 1, 1, 0]\n(253, 253, 253)\nThere is a value\n[1, 0, 1, 0, 1, 0, 1, 0, 1, 1, 0, 1]\n"
     ]
    }
   ],
   "source": [
    "# input list sadrži (x, x, x) elementw\n",
    "train_labels_for_one = []\n",
    "\n",
    "def one_hot_encoding (input_list, output_list, list_of_RGBS):\n",
    "    #output_list = [] # prvo smo listu inicijalizirali nulama\n",
    "    print(output_list)\n",
    "    for element in range(12):\n",
    "        if list_of_RGBs[element] in input_list: # ako je element iz RGB-a u ulaznoj listi\n",
    "            print(list_of_RGBs[element])\n",
    "            # print(input_list)\n",
    "            print(\"There is a value\")\n",
    "            output_list.append(1) # na taj indeks stavi jedinicu\n",
    "        else:\n",
    "            output_list.append(0)\n",
    "        print(output_list)\n",
    "        \n",
    "            \n",
    "one_hot_encoding(train_labels_list[3], train_labels_for_one, list_of_RGBs)"
   ]
  },
  {
   "cell_type": "code",
   "execution_count": 21,
   "metadata": {},
   "outputs": [
    {
     "output_type": "stream",
     "name": "stdout",
     "text": [
      "[1, 0, 1, 0, 1, 0, 1, 0, 1, 1, 0, 1]\n"
     ]
    }
   ],
   "source": [
    "print(train_labels_for_one)"
   ]
  },
  {
   "cell_type": "code",
   "execution_count": 22,
   "metadata": {},
   "outputs": [
    {
     "output_type": "stream",
     "name": "stdout",
     "text": [
      "[(253, 253, 253), (69, 69, 69), (184, 184, 184), (138, 138, 138), (92, 92, 92), (0, 0, 0)]\n"
     ]
    }
   ],
   "source": [
    "print(train_labels_list[2])"
   ]
  },
  {
   "cell_type": "code",
   "execution_count": 23,
   "metadata": {},
   "outputs": [
    {
     "output_type": "stream",
     "name": "stdout",
     "text": [
      "[]\n(0, 0, 0)\nThere is a value\n[1]\n[1, 0]\n[1, 0, 0]\n(69, 69, 69)\nThere is a value\n[1, 0, 0, 1]\n(92, 92, 92)\nThere is a value\n[1, 0, 0, 1, 1]\n[1, 0, 0, 1, 1, 0]\n(138, 138, 138)\nThere is a value\n[1, 0, 0, 1, 1, 0, 1]\n[1, 0, 0, 1, 1, 0, 1, 0]\n(184, 184, 184)\nThere is a value\n[1, 0, 0, 1, 1, 0, 1, 0, 1]\n[1, 0, 0, 1, 1, 0, 1, 0, 1, 0]\n[1, 0, 0, 1, 1, 0, 1, 0, 1, 0, 0]\n(253, 253, 253)\nThere is a value\n[1, 0, 0, 1, 1, 0, 1, 0, 1, 0, 0, 1]\n"
     ]
    }
   ],
   "source": [
    "one_hot_labels_for_two = []\n",
    "\n",
    "one_hot_encoding(train_labels_list[2], one_hot_labels_for_two, list_of_RGBs)"
   ]
  },
  {
   "cell_type": "code",
   "execution_count": 24,
   "metadata": {},
   "outputs": [
    {
     "output_type": "execute_result",
     "data": {
      "text/plain": [
       "[1, 0, 0, 1, 1, 0, 1, 0, 1, 0, 0, 1]"
      ]
     },
     "metadata": {},
     "execution_count": 24
    }
   ],
   "source": [
    "one_hot_labels_for_two"
   ]
  },
  {
   "cell_type": "code",
   "execution_count": null,
   "metadata": {},
   "outputs": [],
   "source": []
  }
 ]
}