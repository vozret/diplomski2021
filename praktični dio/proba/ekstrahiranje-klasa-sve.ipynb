{
 "metadata": {
  "language_info": {
   "codemirror_mode": {
    "name": "ipython",
    "version": 3
   },
   "file_extension": ".py",
   "mimetype": "text/x-python",
   "name": "python",
   "nbconvert_exporter": "python",
   "pygments_lexer": "ipython3",
   "version": "3.8.3-final"
  },
  "orig_nbformat": 2,
  "kernelspec": {
   "name": "python3",
   "display_name": "Python 3.8.3 64-bit ('base': conda)",
   "metadata": {
    "interpreter": {
     "hash": "dca0ade3e726a953b501b15e8e990130d2b7799f14cfd9f4271676035ebe5511"
    }
   }
  }
 },
 "nbformat": 4,
 "nbformat_minor": 2,
 "cells": [
  {
   "cell_type": "code",
   "execution_count": 17,
   "metadata": {},
   "outputs": [],
   "source": [
    "# sve moguće klase i njihvoe RGB vrijednosti\n",
    "# ponavljanje iz prijašnjeg dokumenta\n",
    "\n",
    "classes = {'unknown': (0,0,0),'smoke': (23, 23, 23), 'clouds and fog': (46, 46, 46), 'sun and sun effects': (69, 69, 69), 'sky': (92, 92, 92), 'sea': (115, 115, 115), 'distant landscape': (138, 138, 138), 'rocks': (161, 161, 161), 'distant vegetation': (184, 184, 184), 'close vegetation': (207, 207, 207), 'low vegetation and farms': (230, 230, 230), 'buildings': (253, 253, 253)}"
   ]
  },
  {
   "cell_type": "code",
   "execution_count": 1,
   "metadata": {},
   "outputs": [],
   "source": [
    "import cv2\n",
    "import numpy as np\n",
    "import matplotlib.pyplot as plt\n",
    "import PIL"
   ]
  },
  {
   "cell_type": "code",
   "execution_count": 2,
   "metadata": {},
   "outputs": [],
   "source": [
    "data_directory_labels = \"/Users/veronika/Documents/diplomski2021/FESB_MLID/train_images/gt\"\n",
    "data_directory_images = \"/Users/veronika/Documents/diplomski2021/FESB_MLID/train_images/src\""
   ]
  },
  {
   "cell_type": "code",
   "execution_count": 3,
   "metadata": {},
   "outputs": [],
   "source": [
    "data_directory_images_test = \"/Users/veronika/Documents/diplomski2021/FESB_MLID/test_images/src\"\n",
    "data_directory_labels_test = \"/Users/veronika/Documents/diplomski2021/FESB_MLID/test_images/gt\""
   ]
  },
  {
   "cell_type": "code",
   "execution_count": 4,
   "metadata": {},
   "outputs": [
    {
     "output_type": "stream",
     "name": "stdout",
     "text": [
      "200\n"
     ]
    }
   ],
   "source": [
    "train_images_sorted = []\n",
    "\n",
    "dirFiles = os.listdir(\"/Users/veronika/Documents/diplomski2021/FESB_MLID/train_images/src\")\n",
    "dirFiles.sort()\n",
    "sorted(dirFiles)\n",
    "\n",
    "for files in dirFiles:\n",
    "    if '.jpg' in files:\n",
    "        train_images_sorted.append(files)\n",
    "print(len(train_images_sorted))\n",
    "# print(train_images_sorted)"
   ]
  },
  {
   "cell_type": "code",
   "execution_count": 5,
   "metadata": {},
   "outputs": [
    {
     "output_type": "stream",
     "name": "stdout",
     "text": [
      "200\n"
     ]
    }
   ],
   "source": [
    "test_images_sorted = []\n",
    "\n",
    "dirFiles = os.listdir(\"/Users/veronika/Documents/diplomski2021/FESB_MLID/test_images/src\")\n",
    "dirFiles.sort()\n",
    "sorted(dirFiles)\n",
    "\n",
    "for files in dirFiles: #filter out all non jpgs\n",
    "    if '.jpg' in files:\n",
    "        test_images_sorted.append(files)\n",
    "print(len(test_images_sorted))\n",
    "# print(test_images_sorted)"
   ]
  },
  {
   "cell_type": "code",
   "execution_count": 6,
   "metadata": {},
   "outputs": [
    {
     "output_type": "stream",
     "name": "stdout",
     "text": [
      "Sorting train labels...\n200\n\n\nSorting test labels...\n200\n"
     ]
    }
   ],
   "source": [
    "train_labels_sorted = []\n",
    "test_labels_sorted = []\n",
    "\n",
    "\n",
    "def sort_labels(lables_list, path):\n",
    "    dirFiles = os.listdir(path)\n",
    "    dirFiles.sort()\n",
    "    sorted(dirFiles)\n",
    "\n",
    "    for files in dirFiles: #filter out all non jpgs\n",
    "        if '.bmp' in files:\n",
    "            lables_list.append(files)\n",
    "    # print(f\"{lables_list} sorted.\\nLength:\")\n",
    "    print(len(lables_list))\n",
    "\n",
    "print(\"Sorting train labels...\")\n",
    "sort_labels(train_labels_sorted, \"/Users/veronika/Documents/diplomski2021/FESB_MLID/train_images/gt\")\n",
    "\n",
    "print(\"\\n\")\n",
    "print(\"Sorting test labels...\")\n",
    "sort_labels(test_labels_sorted, \"/Users/veronika/Documents/diplomski2021/FESB_MLID/test_images/gt\")"
   ]
  },
  {
   "cell_type": "code",
   "execution_count": 7,
   "metadata": {
    "tags": []
   },
   "outputs": [
    {
     "output_type": "stream",
     "name": "stdout",
     "text": [
      "extracting classes from sorted train lables array...\n",
      "\n",
      "200\n",
      "extracting classes from sorted test lables array...\n",
      "\n",
      "200\n"
     ]
    }
   ],
   "source": [
    "# izvlačenje boja bez prikazivanja klasa slika\n",
    "# napravljeno kao funkcija koja prima niz s oznakama\n",
    "# iz kojih se izvlače klase, odnosno RGB vrijednosti\n",
    "\n",
    "# ovaj niz će sadržavat nizove s labelama za svaku od slika iz foldera za treniranje i testiranje\n",
    "train_labels_colors = []\n",
    "test_labels_colors = []\n",
    "\n",
    "def get_all_colors(lables_list, path_to_array, list_to_save_to):\n",
    "    for img in lables_list:\n",
    "        path_string = os.path.join(path_to_array, img)\n",
    "        colors = PIL.Image.open(path_string).getcolors(256)\n",
    "\n",
    "        list_to_save_to.append(colors)\n",
    "\n",
    "# ekstrahiranje klasa iz gt slika\n",
    "\n",
    "print(\"extracting classes from sorted train lables array...\\n\")\n",
    "get_all_colors(train_labels_sorted, \"/Users/veronika/Documents/diplomski2021/FESB_MLID/train_images/gt\", train_labels_colors)\n",
    "print(len(train_labels_colors))\n",
    "\n",
    "print(\"extracting classes from sorted test lables array...\\n\")\n",
    "get_all_colors(test_labels_sorted, \"/Users/veronika/Documents/diplomski2021/FESB_MLID/test_images/gt\", test_labels_colors)\n",
    "print(len(test_labels_colors))"
   ]
  },
  {
   "cell_type": "code",
   "execution_count": 9,
   "metadata": {},
   "outputs": [
    {
     "output_type": "execute_result",
     "data": {
      "text/plain": [
       "'gt_100.bmp'"
      ]
     },
     "metadata": {},
     "execution_count": 9
    }
   ],
   "source": [
    "train_labels_sorted[1]"
   ]
  },
  {
   "cell_type": "code",
   "execution_count": 8,
   "metadata": {},
   "outputs": [
    {
     "output_type": "execute_result",
     "data": {
      "text/plain": [
       "[(68815, (253, 253, 253)),\n",
       " (146785, (161, 161, 161)),\n",
       " (70205, (184, 184, 184)),\n",
       " (5418, (138, 138, 138)),\n",
       " (14800, (92, 92, 92)),\n",
       " (35348, (46, 46, 46)),\n",
       " (100997, (0, 0, 0))]"
      ]
     },
     "metadata": {},
     "execution_count": 8
    }
   ],
   "source": [
    "train_labels_colors[1]"
   ]
  },
  {
   "cell_type": "code",
   "execution_count": 12,
   "metadata": {
    "tags": []
   },
   "outputs": [
    {
     "output_type": "stream",
     "name": "stdout",
     "text": [
      "extracting only the RGB values for train labels...\nTrain labels list has 200 elements\n\nextracting only the RGB values for test labels...\nTrain labels list has 200 elements\n\n[(207, 207, 207), (161, 161, 161), (69, 69, 69), (184, 184, 184), (138, 138, 138), (0, 0, 0)]\n"
     ]
    }
   ],
   "source": [
    "train_labels_list = []\n",
    "test_labels_list = []\n",
    "\n",
    "def colors_to_list(list_with_tuples, list_to_save_to):\n",
    "    for color in range(len(list_with_tuples)):\n",
    "        temp_list = []\n",
    "        for class_color in range(len(list_with_tuples[color])):\n",
    "            temp_list.append(list_with_tuples[color][class_color][1])\n",
    "        list_to_save_to.append(temp_list)\n",
    "\n",
    "print(\"extracting only the RGB values for train labels...\")\n",
    "colors_to_list(train_labels_colors, train_labels_list)\n",
    "print(f\"Train labels list has {len(train_labels_list)} elements\\n\")\n",
    "\n",
    "print(\"extracting only the RGB values for test labels...\")\n",
    "colors_to_list(test_labels_colors, test_labels_list)\n",
    "print(f\"Train labels list has {len(test_labels_list)} elements\\n\")\n",
    "\n",
    "print(f\"{test_labels_list[1]}\")"
   ]
  },
  {
   "cell_type": "code",
   "execution_count": 13,
   "metadata": {},
   "outputs": [
    {
     "output_type": "stream",
     "name": "stdout",
     "text": [
      "200\n"
     ]
    }
   ],
   "source": [
    "print(f\"{len(train_labels_colors)}\")"
   ]
  },
  {
   "cell_type": "code",
   "execution_count": 14,
   "metadata": {},
   "outputs": [
    {
     "output_type": "stream",
     "name": "stdout",
     "text": [
      "200\n"
     ]
    }
   ],
   "source": [
    "print(f\"{len(train_labels_list)}\")"
   ]
  },
  {
   "cell_type": "code",
   "execution_count": 15,
   "metadata": {},
   "outputs": [
    {
     "output_type": "stream",
     "name": "stdout",
     "text": [
      "200\n"
     ]
    }
   ],
   "source": [
    "print(f\"{len(test_labels_list)}\")"
   ]
  },
  {
   "cell_type": "code",
   "execution_count": 16,
   "metadata": {},
   "outputs": [
    {
     "output_type": "stream",
     "name": "stdout",
     "text": [
      "[(207, 207, 207), (161, 161, 161), (69, 69, 69), (184, 184, 184), (138, 138, 138), (0, 0, 0)]\n"
     ]
    }
   ],
   "source": [
    "print(f\"{test_labels_list[1]}\")"
   ]
  },
  {
   "cell_type": "code",
   "execution_count": 21,
   "metadata": {},
   "outputs": [
    {
     "output_type": "stream",
     "name": "stdout",
     "text": [
      "color: (207, 207, 207)\nclass name: close vegetation\n\ncolor: (161, 161, 161)\nclass name: rocks\n\ncolor: (69, 69, 69)\nclass name: sun and sun effects\n\ncolor: (184, 184, 184)\nclass name: distant vegetation\n\ncolor: (138, 138, 138)\nclass name: distant landscape\n\ncolor: (0, 0, 0)\nclass name: unknown\n\n"
     ]
    }
   ],
   "source": [
    "def print_names_of_classes(list_to_extract):\n",
    "    for color in list_to_extract:\n",
    "        print(f\"color: {color}\")\n",
    "        for key, value in classes.items():\n",
    "            if value == color:\n",
    "                print(f\"class name: {key}\\n\")\n",
    "\n",
    "print_names_of_classes(test_labels_list[1])"
   ]
  },
  {
   "cell_type": "code",
   "execution_count": null,
   "metadata": {},
   "outputs": [],
   "source": []
  }
 ]
}