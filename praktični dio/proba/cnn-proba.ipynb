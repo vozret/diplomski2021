{
 "metadata": {
  "language_info": {
   "codemirror_mode": {
    "name": "ipython",
    "version": 3
   },
   "file_extension": ".py",
   "mimetype": "text/x-python",
   "name": "python",
   "nbconvert_exporter": "python",
   "pygments_lexer": "ipython3",
   "version": "3.8.3-final"
  },
  "orig_nbformat": 2,
  "kernelspec": {
   "name": "python3",
   "display_name": "Python 3.8.3 64-bit ('anaconda3': virtualenv)",
   "metadata": {
    "interpreter": {
     "hash": "dca0ade3e726a953b501b15e8e990130d2b7799f14cfd9f4271676035ebe5511"
    }
   }
  }
 },
 "nbformat": 4,
 "nbformat_minor": 2,
 "cells": [
  {
   "cell_type": "code",
   "execution_count": 2,
   "metadata": {},
   "outputs": [],
   "source": [
    "from tensorflow.keras.models import Sequential\n",
    "from tensorflow.keras.layers import Dense, Dropout, Activation, Conv2D, Flatten, MaxPooling2D\n",
    "import numpy as np\n",
    "\n",
    "train_images = np.load('images-proba.npy')\n",
    "train_labels = np.load('labels-proba.npy')\n",
    "\n",
    "#train_images = np.array(train_images / 255.0)\n",
    "#train_labels = np.array(train_labels)"
   ]
  },
  {
   "cell_type": "code",
   "execution_count": 3,
   "metadata": {},
   "outputs": [
    {
     "output_type": "stream",
     "name": "stdout",
     "text": [
      "<class 'numpy.ndarray'>\n<class 'numpy.ndarray'>\n"
     ]
    }
   ],
   "source": [
    "print(type(train_labels))\n",
    "print(type(train_images))"
   ]
  },
  {
   "cell_type": "code",
   "execution_count": 15,
   "metadata": {},
   "outputs": [],
   "source": [
    "train_images = np.array(train_images / 255.0)\n",
    "train_labels = np.asarray(train_labels).astype('float32').reshape((-1,1))"
   ]
  },
  {
   "cell_type": "code",
   "execution_count": 33,
   "metadata": {},
   "outputs": [],
   "source": [
    "model = Sequential()\n",
    "# [1:] so that we skip the feature info from \n",
    "# np.array(train_images).reshape(-1, img_size, img_size, 1)\n",
    "model.add(Conv2D(32, (3, 3), use_bias=True, input_shape = train_images.shape[1:]))\n",
    "model.add(Activation('relu'))\n",
    "model.add(MaxPooling2D(pool_size=(2,2)))\n",
    "\n",
    "model.add(Conv2D(32, (3, 3), use_bias=True))\n",
    "model.add(Activation('relu'))\n",
    "model.add(MaxPooling2D(pool_size=(2,2)))\n",
    "\n",
    "model.add(Flatten())\n",
    "model.add(Dense(64, use_bias=True))\n",
    "model.add(Activation('relu'))\n",
    "\n",
    "model.add(Dense(1))\n",
    "model.add(Activation('sigmoid'))"
   ]
  },
  {
   "cell_type": "code",
   "execution_count": 34,
   "metadata": {},
   "outputs": [
    {
     "output_type": "stream",
     "name": "stdout",
     "text": [
      "Model: \"sequential_3\"\n_________________________________________________________________\nLayer (type)                 Output Shape              Param #   \n=================================================================\nconv2d_6 (Conv2D)            (None, 98, 98, 32)        896       \n_________________________________________________________________\nactivation_12 (Activation)   (None, 98, 98, 32)        0         \n_________________________________________________________________\nmax_pooling2d_6 (MaxPooling2 (None, 49, 49, 32)        0         \n_________________________________________________________________\nconv2d_7 (Conv2D)            (None, 47, 47, 32)        9248      \n_________________________________________________________________\nactivation_13 (Activation)   (None, 47, 47, 32)        0         \n_________________________________________________________________\nmax_pooling2d_7 (MaxPooling2 (None, 23, 23, 32)        0         \n_________________________________________________________________\nflatten_3 (Flatten)          (None, 16928)             0         \n_________________________________________________________________\ndense_6 (Dense)              (None, 64)                1083456   \n_________________________________________________________________\nactivation_14 (Activation)   (None, 64)                0         \n_________________________________________________________________\ndense_7 (Dense)              (None, 1)                 65        \n_________________________________________________________________\nactivation_15 (Activation)   (None, 1)                 0         \n=================================================================\nTotal params: 1,093,665\nTrainable params: 1,093,665\nNon-trainable params: 0\n_________________________________________________________________\n"
     ]
    }
   ],
   "source": [
    "model.summary()"
   ]
  },
  {
   "cell_type": "code",
   "execution_count": 18,
   "metadata": {},
   "outputs": [
    {
     "output_type": "execute_result",
     "data": {
      "text/plain": [
       "(56, 100, 100, 3)"
      ]
     },
     "metadata": {},
     "execution_count": 18
    }
   ],
   "source": [
    "train_images.shape"
   ]
  },
  {
   "cell_type": "code",
   "execution_count": 35,
   "metadata": {},
   "outputs": [],
   "source": [
    "model.compile(loss=\"binary_crossentropy\",\n",
    "            optimizer=\"adam\",\n",
    "            metrics=[\"accuracy\"])\n",
    "        "
   ]
  },
  {
   "cell_type": "code",
   "execution_count": 9,
   "metadata": {},
   "outputs": [
    {
     "output_type": "execute_result",
     "data": {
      "text/plain": [
       "numpy.ndarray"
      ]
     },
     "metadata": {},
     "execution_count": 9
    }
   ],
   "source": [
    "type(train_images)"
   ]
  },
  {
   "cell_type": "code",
   "execution_count": 10,
   "metadata": {},
   "outputs": [
    {
     "output_type": "execute_result",
     "data": {
      "text/plain": [
       "numpy.ndarray"
      ]
     },
     "metadata": {},
     "execution_count": 10
    }
   ],
   "source": [
    "type(train_labels)"
   ]
  },
  {
   "cell_type": "code",
   "execution_count": 11,
   "metadata": {},
   "outputs": [
    {
     "output_type": "execute_result",
     "data": {
      "text/plain": [
       "56"
      ]
     },
     "metadata": {},
     "execution_count": 11
    }
   ],
   "source": [
    "len(train_images)"
   ]
  },
  {
   "cell_type": "code",
   "execution_count": 12,
   "metadata": {},
   "outputs": [
    {
     "output_type": "stream",
     "name": "stdout",
     "text": [
      "56\n"
     ]
    }
   ],
   "source": [
    "print(len(train_labels))"
   ]
  },
  {
   "cell_type": "code",
   "execution_count": 13,
   "metadata": {},
   "outputs": [
    {
     "output_type": "stream",
     "name": "stdout",
     "text": [
      "[1 1 1 0 1 1 0 1 1 0 0 0]\n"
     ]
    }
   ],
   "source": [
    "print(train_labels[0])"
   ]
  },
  {
   "cell_type": "code",
   "execution_count": 36,
   "metadata": {},
   "outputs": [
    {
     "output_type": "stream",
     "name": "stdout",
     "text": [
      "Epoch 1/10\n",
      "2/2 [==============================] - 2s 656ms/step - loss: 0.6931 - accuracy: 0.5303 - val_loss: 0.7095 - val_accuracy: 0.0000e+00\n",
      "Epoch 2/10\n",
      "2/2 [==============================] - 1s 366ms/step - loss: 0.6918 - accuracy: 0.5303 - val_loss: 0.7482 - val_accuracy: 0.0000e+00\n",
      "Epoch 3/10\n",
      "2/2 [==============================] - 1s 384ms/step - loss: 0.6958 - accuracy: 0.4991 - val_loss: 0.7545 - val_accuracy: 0.0000e+00\n",
      "Epoch 4/10\n",
      "2/2 [==============================] - 1s 387ms/step - loss: 0.6884 - accuracy: 0.5616 - val_loss: 0.7961 - val_accuracy: 0.0000e+00\n",
      "Epoch 5/10\n",
      "2/2 [==============================] - 1s 381ms/step - loss: 0.6919 - accuracy: 0.5303 - val_loss: 0.8124 - val_accuracy: 0.0000e+00\n",
      "Epoch 6/10\n",
      "2/2 [==============================] - 1s 375ms/step - loss: 0.6902 - accuracy: 0.5407 - val_loss: 0.8288 - val_accuracy: 0.0000e+00\n",
      "Epoch 7/10\n",
      "2/2 [==============================] - 1s 375ms/step - loss: 0.6967 - accuracy: 0.5199 - val_loss: 0.8203 - val_accuracy: 0.0000e+00\n",
      "Epoch 8/10\n",
      "2/2 [==============================] - 1s 374ms/step - loss: 0.6860 - accuracy: 0.5616 - val_loss: 0.8267 - val_accuracy: 0.0000e+00\n",
      "Epoch 9/10\n",
      "2/2 [==============================] - 1s 401ms/step - loss: 0.6855 - accuracy: 0.5616 - val_loss: 0.8122 - val_accuracy: 0.0000e+00\n",
      "Epoch 10/10\n",
      "2/2 [==============================] - 1s 404ms/step - loss: 0.7023 - accuracy: 0.4991 - val_loss: 0.7792 - val_accuracy: 0.0000e+00\n"
     ]
    },
    {
     "output_type": "execute_result",
     "data": {
      "text/plain": [
       "<tensorflow.python.keras.callbacks.History at 0x16282ec40>"
      ]
     },
     "metadata": {},
     "execution_count": 36
    }
   ],
   "source": [
    "model.fit(train_images, train_labels, validation_split=0.01, epochs=10, shuffle=True)"
   ]
  },
  {
   "cell_type": "code",
   "execution_count": 31,
   "metadata": {},
   "outputs": [
    {
     "output_type": "stream",
     "name": "stdout",
     "text": [
      "2/2 - 0s\n"
     ]
    },
    {
     "output_type": "execute_result",
     "data": {
      "text/plain": [
       "array([[0.5499154 ],\n",
       "       [0.5503307 ],\n",
       "       [0.5504453 ],\n",
       "       [0.5503378 ],\n",
       "       [0.5505907 ],\n",
       "       [0.55013824],\n",
       "       [0.5504786 ],\n",
       "       [0.550687  ],\n",
       "       [0.5509574 ],\n",
       "       [0.55043316],\n",
       "       [0.5504643 ],\n",
       "       [0.5505056 ],\n",
       "       [0.55041325],\n",
       "       [0.5501037 ],\n",
       "       [0.55056363],\n",
       "       [0.54946035],\n",
       "       [0.5501671 ],\n",
       "       [0.55044645],\n",
       "       [0.550497  ],\n",
       "       [0.5500149 ],\n",
       "       [0.55120945],\n",
       "       [0.55048007],\n",
       "       [0.55020964],\n",
       "       [0.55017084],\n",
       "       [0.5504298 ],\n",
       "       [0.5503245 ],\n",
       "       [0.5509489 ],\n",
       "       [0.5508317 ],\n",
       "       [0.5504494 ],\n",
       "       [0.55032533],\n",
       "       [0.5510038 ],\n",
       "       [0.550154  ],\n",
       "       [0.5502367 ],\n",
       "       [0.54926026],\n",
       "       [0.5501167 ],\n",
       "       [0.5490914 ],\n",
       "       [0.5506305 ],\n",
       "       [0.55044603],\n",
       "       [0.5513138 ],\n",
       "       [0.5504307 ],\n",
       "       [0.5502954 ],\n",
       "       [0.5497947 ],\n",
       "       [0.5507612 ],\n",
       "       [0.5506087 ],\n",
       "       [0.55071086],\n",
       "       [0.55052567],\n",
       "       [0.5504977 ],\n",
       "       [0.5504611 ],\n",
       "       [0.55070627],\n",
       "       [0.5504776 ],\n",
       "       [0.5502502 ],\n",
       "       [0.5503427 ],\n",
       "       [0.55080014],\n",
       "       [0.5506789 ],\n",
       "       [0.550548  ],\n",
       "       [0.55116475]], dtype=float32)"
      ]
     },
     "metadata": {},
     "execution_count": 31
    }
   ],
   "source": [
    "model.predict(train_images, verbose=2)"
   ]
  },
  {
   "cell_type": "code",
   "execution_count": null,
   "metadata": {},
   "outputs": [],
   "source": []
  }
 ]
}