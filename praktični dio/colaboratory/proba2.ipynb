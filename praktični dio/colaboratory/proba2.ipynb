{
  "nbformat": 4,
  "nbformat_minor": 0,
  "metadata": {
    "colab": {
      "name": "proba2.ipynb",
      "provenance": []
    },
    "kernelspec": {
      "name": "python3",
      "display_name": "Python 3"
    },
    "language_info": {
      "name": "python"
    },
    "accelerator": "TPU"
  },
  "cells": [
    {
      "cell_type": "code",
      "metadata": {
        "id": "IrztRRkS15pb"
      },
      "source": [
        "import tensorflow as tf\n",
        "import os\n",
        "from IPython.display import Image, display\n",
        "from tensorflow.keras.preprocessing.image import load_img\n",
        "import PIL\n",
        "from PIL import ImageOps\n",
        "from tensorflow import keras\n",
        "import numpy as np\n",
        "from tensorflow.keras.preprocessing.image import load_img\n",
        "from tensorflow.keras.preprocessing.image import ImageDataGenerator, array_to_img, img_to_array, load_img\n",
        "from skimage.transform import resize\n",
        "from sklearn.model_selection import train_test_split\n",
        "import random\n",
        "from keras.models import Model, load_model\n",
        "from keras.layers import Input, BatchNormalization, Activation, Dense, Dropout\n",
        "from keras.layers.core import Lambda, RepeatVector, Reshape\n",
        "from keras.layers.convolutional import Conv2D, Conv2DTranspose\n",
        "from keras.layers.pooling import MaxPooling2D, GlobalMaxPool2D\n",
        "from keras.layers.merge import concatenate, add\n",
        "from keras.callbacks import EarlyStopping, ModelCheckpoint, ReduceLROnPlateau\n",
        "from keras.optimizers import Adam"
      ],
      "execution_count": 1,
      "outputs": []
    },
    {
      "cell_type": "code",
      "metadata": {
        "id": "l7hCny6s2hqq"
      },
      "source": [
        "input_dir = \"/content/drive/MyDrive/FESB/images\"\n",
        "target_dir = \"/content/drive/MyDrive/FESB/masks\"\n",
        "\n",
        "img_width = 512\n",
        "img_height = 512\n",
        "batch_size = 10"
      ],
      "execution_count": 2,
      "outputs": []
    },
    {
      "cell_type": "code",
      "metadata": {
        "id": "dILo5TgDpufJ"
      },
      "source": [
        "input_img_paths = sorted(\n",
        "    [\n",
        "        os.path.join(input_dir, fname)\n",
        "        for fname in os.listdir(input_dir)\n",
        "        if fname.endswith(\".jpg\")\n",
        "    ]\n",
        ")"
      ],
      "execution_count": 3,
      "outputs": []
    },
    {
      "cell_type": "code",
      "metadata": {
        "colab": {
          "base_uri": "https://localhost:8080/"
        },
        "id": "ewQ6IF1Apzp-",
        "outputId": "6758ec94-a825-46f5-86c6-b66837189ede"
      },
      "source": [
        "len(input_img_paths)"
      ],
      "execution_count": 4,
      "outputs": [
        {
          "output_type": "execute_result",
          "data": {
            "text/plain": [
              "400"
            ]
          },
          "metadata": {
            "tags": []
          },
          "execution_count": 4
        }
      ]
    },
    {
      "cell_type": "code",
      "metadata": {
        "id": "tEjYr-EPp1O2"
      },
      "source": [
        "target_img_paths = sorted(\n",
        "    [\n",
        "        os.path.join(target_dir, fname)\n",
        "        for fname in os.listdir(target_dir)\n",
        "        if fname.endswith(\".bmp\") and not fname.startswith(\".\")\n",
        "    ]\n",
        ")"
      ],
      "execution_count": 5,
      "outputs": []
    },
    {
      "cell_type": "code",
      "metadata": {
        "colab": {
          "base_uri": "https://localhost:8080/"
        },
        "id": "6-vFffEFp2tV",
        "outputId": "eab6a998-aeb5-4ea9-9f00-8120d6a19437"
      },
      "source": [
        "len(target_img_paths)"
      ],
      "execution_count": 6,
      "outputs": [
        {
          "output_type": "execute_result",
          "data": {
            "text/plain": [
              "400"
            ]
          },
          "metadata": {
            "tags": []
          },
          "execution_count": 6
        }
      ]
    },
    {
      "cell_type": "code",
      "metadata": {
        "colab": {
          "base_uri": "https://localhost:8080/"
        },
        "id": "rxdid3Vnp4v-",
        "outputId": "94942f95-14cf-4d66-e9ba-6b49e2bdc988"
      },
      "source": [
        "for input_path, target_path in zip(input_img_paths, target_img_paths):\n",
        "    print(input_path, \"|\", target_path)"
      ],
      "execution_count": 7,
      "outputs": [
        {
          "output_type": "stream",
          "text": [
            "/content/drive/MyDrive/FESB/images/src_1.jpg | /content/drive/MyDrive/FESB/masks/gt_1.bmp\n",
            "/content/drive/MyDrive/FESB/images/src_10.jpg | /content/drive/MyDrive/FESB/masks/gt_10.bmp\n",
            "/content/drive/MyDrive/FESB/images/src_100.jpg | /content/drive/MyDrive/FESB/masks/gt_100.bmp\n",
            "/content/drive/MyDrive/FESB/images/src_101.jpg | /content/drive/MyDrive/FESB/masks/gt_101.bmp\n",
            "/content/drive/MyDrive/FESB/images/src_102.jpg | /content/drive/MyDrive/FESB/masks/gt_102.bmp\n",
            "/content/drive/MyDrive/FESB/images/src_103.jpg | /content/drive/MyDrive/FESB/masks/gt_103.bmp\n",
            "/content/drive/MyDrive/FESB/images/src_104.jpg | /content/drive/MyDrive/FESB/masks/gt_104.bmp\n",
            "/content/drive/MyDrive/FESB/images/src_105.jpg | /content/drive/MyDrive/FESB/masks/gt_105.bmp\n",
            "/content/drive/MyDrive/FESB/images/src_106.jpg | /content/drive/MyDrive/FESB/masks/gt_106.bmp\n",
            "/content/drive/MyDrive/FESB/images/src_107.jpg | /content/drive/MyDrive/FESB/masks/gt_107.bmp\n",
            "/content/drive/MyDrive/FESB/images/src_108.jpg | /content/drive/MyDrive/FESB/masks/gt_108.bmp\n",
            "/content/drive/MyDrive/FESB/images/src_109.jpg | /content/drive/MyDrive/FESB/masks/gt_109.bmp\n",
            "/content/drive/MyDrive/FESB/images/src_11.jpg | /content/drive/MyDrive/FESB/masks/gt_11.bmp\n",
            "/content/drive/MyDrive/FESB/images/src_110.jpg | /content/drive/MyDrive/FESB/masks/gt_110.bmp\n",
            "/content/drive/MyDrive/FESB/images/src_111.jpg | /content/drive/MyDrive/FESB/masks/gt_111.bmp\n",
            "/content/drive/MyDrive/FESB/images/src_112.jpg | /content/drive/MyDrive/FESB/masks/gt_112.bmp\n",
            "/content/drive/MyDrive/FESB/images/src_113.jpg | /content/drive/MyDrive/FESB/masks/gt_113.bmp\n",
            "/content/drive/MyDrive/FESB/images/src_114.jpg | /content/drive/MyDrive/FESB/masks/gt_114.bmp\n",
            "/content/drive/MyDrive/FESB/images/src_115.jpg | /content/drive/MyDrive/FESB/masks/gt_115.bmp\n",
            "/content/drive/MyDrive/FESB/images/src_116.jpg | /content/drive/MyDrive/FESB/masks/gt_116.bmp\n",
            "/content/drive/MyDrive/FESB/images/src_117.jpg | /content/drive/MyDrive/FESB/masks/gt_117.bmp\n",
            "/content/drive/MyDrive/FESB/images/src_118.jpg | /content/drive/MyDrive/FESB/masks/gt_118.bmp\n",
            "/content/drive/MyDrive/FESB/images/src_119.jpg | /content/drive/MyDrive/FESB/masks/gt_119.bmp\n",
            "/content/drive/MyDrive/FESB/images/src_12.jpg | /content/drive/MyDrive/FESB/masks/gt_12.bmp\n",
            "/content/drive/MyDrive/FESB/images/src_120.jpg | /content/drive/MyDrive/FESB/masks/gt_120.bmp\n",
            "/content/drive/MyDrive/FESB/images/src_121.jpg | /content/drive/MyDrive/FESB/masks/gt_121.bmp\n",
            "/content/drive/MyDrive/FESB/images/src_122.jpg | /content/drive/MyDrive/FESB/masks/gt_122.bmp\n",
            "/content/drive/MyDrive/FESB/images/src_123.jpg | /content/drive/MyDrive/FESB/masks/gt_123.bmp\n",
            "/content/drive/MyDrive/FESB/images/src_124.jpg | /content/drive/MyDrive/FESB/masks/gt_124.bmp\n",
            "/content/drive/MyDrive/FESB/images/src_125.jpg | /content/drive/MyDrive/FESB/masks/gt_125.bmp\n",
            "/content/drive/MyDrive/FESB/images/src_126.jpg | /content/drive/MyDrive/FESB/masks/gt_126.bmp\n",
            "/content/drive/MyDrive/FESB/images/src_127.jpg | /content/drive/MyDrive/FESB/masks/gt_127.bmp\n",
            "/content/drive/MyDrive/FESB/images/src_128.jpg | /content/drive/MyDrive/FESB/masks/gt_128.bmp\n",
            "/content/drive/MyDrive/FESB/images/src_129.jpg | /content/drive/MyDrive/FESB/masks/gt_129.bmp\n",
            "/content/drive/MyDrive/FESB/images/src_13.jpg | /content/drive/MyDrive/FESB/masks/gt_13.bmp\n",
            "/content/drive/MyDrive/FESB/images/src_130.jpg | /content/drive/MyDrive/FESB/masks/gt_130.bmp\n",
            "/content/drive/MyDrive/FESB/images/src_131.jpg | /content/drive/MyDrive/FESB/masks/gt_131.bmp\n",
            "/content/drive/MyDrive/FESB/images/src_132.jpg | /content/drive/MyDrive/FESB/masks/gt_132.bmp\n",
            "/content/drive/MyDrive/FESB/images/src_133.jpg | /content/drive/MyDrive/FESB/masks/gt_133.bmp\n",
            "/content/drive/MyDrive/FESB/images/src_134.jpg | /content/drive/MyDrive/FESB/masks/gt_134.bmp\n",
            "/content/drive/MyDrive/FESB/images/src_135.jpg | /content/drive/MyDrive/FESB/masks/gt_135.bmp\n",
            "/content/drive/MyDrive/FESB/images/src_136.jpg | /content/drive/MyDrive/FESB/masks/gt_136.bmp\n",
            "/content/drive/MyDrive/FESB/images/src_137.jpg | /content/drive/MyDrive/FESB/masks/gt_137.bmp\n",
            "/content/drive/MyDrive/FESB/images/src_138.jpg | /content/drive/MyDrive/FESB/masks/gt_138.bmp\n",
            "/content/drive/MyDrive/FESB/images/src_139.jpg | /content/drive/MyDrive/FESB/masks/gt_139.bmp\n",
            "/content/drive/MyDrive/FESB/images/src_14.jpg | /content/drive/MyDrive/FESB/masks/gt_14.bmp\n",
            "/content/drive/MyDrive/FESB/images/src_140.jpg | /content/drive/MyDrive/FESB/masks/gt_140.bmp\n",
            "/content/drive/MyDrive/FESB/images/src_141.jpg | /content/drive/MyDrive/FESB/masks/gt_141.bmp\n",
            "/content/drive/MyDrive/FESB/images/src_142.jpg | /content/drive/MyDrive/FESB/masks/gt_142.bmp\n",
            "/content/drive/MyDrive/FESB/images/src_143.jpg | /content/drive/MyDrive/FESB/masks/gt_143.bmp\n",
            "/content/drive/MyDrive/FESB/images/src_144.jpg | /content/drive/MyDrive/FESB/masks/gt_144.bmp\n",
            "/content/drive/MyDrive/FESB/images/src_145.jpg | /content/drive/MyDrive/FESB/masks/gt_145.bmp\n",
            "/content/drive/MyDrive/FESB/images/src_146.jpg | /content/drive/MyDrive/FESB/masks/gt_146.bmp\n",
            "/content/drive/MyDrive/FESB/images/src_147.jpg | /content/drive/MyDrive/FESB/masks/gt_147.bmp\n",
            "/content/drive/MyDrive/FESB/images/src_148.jpg | /content/drive/MyDrive/FESB/masks/gt_148.bmp\n",
            "/content/drive/MyDrive/FESB/images/src_149.jpg | /content/drive/MyDrive/FESB/masks/gt_149.bmp\n",
            "/content/drive/MyDrive/FESB/images/src_15.jpg | /content/drive/MyDrive/FESB/masks/gt_15.bmp\n",
            "/content/drive/MyDrive/FESB/images/src_150.jpg | /content/drive/MyDrive/FESB/masks/gt_150.bmp\n",
            "/content/drive/MyDrive/FESB/images/src_151.jpg | /content/drive/MyDrive/FESB/masks/gt_151.bmp\n",
            "/content/drive/MyDrive/FESB/images/src_152.jpg | /content/drive/MyDrive/FESB/masks/gt_152.bmp\n",
            "/content/drive/MyDrive/FESB/images/src_153.jpg | /content/drive/MyDrive/FESB/masks/gt_153.bmp\n",
            "/content/drive/MyDrive/FESB/images/src_154.jpg | /content/drive/MyDrive/FESB/masks/gt_154.bmp\n",
            "/content/drive/MyDrive/FESB/images/src_155.jpg | /content/drive/MyDrive/FESB/masks/gt_155.bmp\n",
            "/content/drive/MyDrive/FESB/images/src_156.jpg | /content/drive/MyDrive/FESB/masks/gt_156.bmp\n",
            "/content/drive/MyDrive/FESB/images/src_157.jpg | /content/drive/MyDrive/FESB/masks/gt_157.bmp\n",
            "/content/drive/MyDrive/FESB/images/src_158.jpg | /content/drive/MyDrive/FESB/masks/gt_158.bmp\n",
            "/content/drive/MyDrive/FESB/images/src_159.jpg | /content/drive/MyDrive/FESB/masks/gt_159.bmp\n",
            "/content/drive/MyDrive/FESB/images/src_16.jpg | /content/drive/MyDrive/FESB/masks/gt_16.bmp\n",
            "/content/drive/MyDrive/FESB/images/src_160.jpg | /content/drive/MyDrive/FESB/masks/gt_160.bmp\n",
            "/content/drive/MyDrive/FESB/images/src_161.jpg | /content/drive/MyDrive/FESB/masks/gt_161.bmp\n",
            "/content/drive/MyDrive/FESB/images/src_162.jpg | /content/drive/MyDrive/FESB/masks/gt_162.bmp\n",
            "/content/drive/MyDrive/FESB/images/src_163.jpg | /content/drive/MyDrive/FESB/masks/gt_163.bmp\n",
            "/content/drive/MyDrive/FESB/images/src_164.jpg | /content/drive/MyDrive/FESB/masks/gt_164.bmp\n",
            "/content/drive/MyDrive/FESB/images/src_165.jpg | /content/drive/MyDrive/FESB/masks/gt_165.bmp\n",
            "/content/drive/MyDrive/FESB/images/src_166.jpg | /content/drive/MyDrive/FESB/masks/gt_166.bmp\n",
            "/content/drive/MyDrive/FESB/images/src_167.jpg | /content/drive/MyDrive/FESB/masks/gt_167.bmp\n",
            "/content/drive/MyDrive/FESB/images/src_168.jpg | /content/drive/MyDrive/FESB/masks/gt_168.bmp\n",
            "/content/drive/MyDrive/FESB/images/src_169.jpg | /content/drive/MyDrive/FESB/masks/gt_169.bmp\n",
            "/content/drive/MyDrive/FESB/images/src_17.jpg | /content/drive/MyDrive/FESB/masks/gt_17.bmp\n",
            "/content/drive/MyDrive/FESB/images/src_170.jpg | /content/drive/MyDrive/FESB/masks/gt_170.bmp\n",
            "/content/drive/MyDrive/FESB/images/src_171.jpg | /content/drive/MyDrive/FESB/masks/gt_171.bmp\n",
            "/content/drive/MyDrive/FESB/images/src_172.jpg | /content/drive/MyDrive/FESB/masks/gt_172.bmp\n",
            "/content/drive/MyDrive/FESB/images/src_173.jpg | /content/drive/MyDrive/FESB/masks/gt_173.bmp\n",
            "/content/drive/MyDrive/FESB/images/src_174.jpg | /content/drive/MyDrive/FESB/masks/gt_174.bmp\n",
            "/content/drive/MyDrive/FESB/images/src_175.jpg | /content/drive/MyDrive/FESB/masks/gt_175.bmp\n",
            "/content/drive/MyDrive/FESB/images/src_176.jpg | /content/drive/MyDrive/FESB/masks/gt_176.bmp\n",
            "/content/drive/MyDrive/FESB/images/src_177.jpg | /content/drive/MyDrive/FESB/masks/gt_177.bmp\n",
            "/content/drive/MyDrive/FESB/images/src_178.jpg | /content/drive/MyDrive/FESB/masks/gt_178.bmp\n",
            "/content/drive/MyDrive/FESB/images/src_179.jpg | /content/drive/MyDrive/FESB/masks/gt_179.bmp\n",
            "/content/drive/MyDrive/FESB/images/src_18.jpg | /content/drive/MyDrive/FESB/masks/gt_18.bmp\n",
            "/content/drive/MyDrive/FESB/images/src_180.jpg | /content/drive/MyDrive/FESB/masks/gt_180.bmp\n",
            "/content/drive/MyDrive/FESB/images/src_181.jpg | /content/drive/MyDrive/FESB/masks/gt_181.bmp\n",
            "/content/drive/MyDrive/FESB/images/src_182.jpg | /content/drive/MyDrive/FESB/masks/gt_182.bmp\n",
            "/content/drive/MyDrive/FESB/images/src_183.jpg | /content/drive/MyDrive/FESB/masks/gt_183.bmp\n",
            "/content/drive/MyDrive/FESB/images/src_184.jpg | /content/drive/MyDrive/FESB/masks/gt_184.bmp\n",
            "/content/drive/MyDrive/FESB/images/src_185.jpg | /content/drive/MyDrive/FESB/masks/gt_185.bmp\n",
            "/content/drive/MyDrive/FESB/images/src_186.jpg | /content/drive/MyDrive/FESB/masks/gt_186.bmp\n",
            "/content/drive/MyDrive/FESB/images/src_187.jpg | /content/drive/MyDrive/FESB/masks/gt_187.bmp\n",
            "/content/drive/MyDrive/FESB/images/src_188.jpg | /content/drive/MyDrive/FESB/masks/gt_188.bmp\n",
            "/content/drive/MyDrive/FESB/images/src_189.jpg | /content/drive/MyDrive/FESB/masks/gt_189.bmp\n",
            "/content/drive/MyDrive/FESB/images/src_19.jpg | /content/drive/MyDrive/FESB/masks/gt_19.bmp\n",
            "/content/drive/MyDrive/FESB/images/src_190.jpg | /content/drive/MyDrive/FESB/masks/gt_190.bmp\n",
            "/content/drive/MyDrive/FESB/images/src_191.jpg | /content/drive/MyDrive/FESB/masks/gt_191.bmp\n",
            "/content/drive/MyDrive/FESB/images/src_192.jpg | /content/drive/MyDrive/FESB/masks/gt_192.bmp\n",
            "/content/drive/MyDrive/FESB/images/src_193.jpg | /content/drive/MyDrive/FESB/masks/gt_193.bmp\n",
            "/content/drive/MyDrive/FESB/images/src_194.jpg | /content/drive/MyDrive/FESB/masks/gt_194.bmp\n",
            "/content/drive/MyDrive/FESB/images/src_195.jpg | /content/drive/MyDrive/FESB/masks/gt_195.bmp\n",
            "/content/drive/MyDrive/FESB/images/src_196.jpg | /content/drive/MyDrive/FESB/masks/gt_196.bmp\n",
            "/content/drive/MyDrive/FESB/images/src_197.jpg | /content/drive/MyDrive/FESB/masks/gt_197.bmp\n",
            "/content/drive/MyDrive/FESB/images/src_198.jpg | /content/drive/MyDrive/FESB/masks/gt_198.bmp\n",
            "/content/drive/MyDrive/FESB/images/src_199.jpg | /content/drive/MyDrive/FESB/masks/gt_199.bmp\n",
            "/content/drive/MyDrive/FESB/images/src_2.jpg | /content/drive/MyDrive/FESB/masks/gt_2.bmp\n",
            "/content/drive/MyDrive/FESB/images/src_20.jpg | /content/drive/MyDrive/FESB/masks/gt_20.bmp\n",
            "/content/drive/MyDrive/FESB/images/src_200.jpg | /content/drive/MyDrive/FESB/masks/gt_200.bmp\n",
            "/content/drive/MyDrive/FESB/images/src_201.jpg | /content/drive/MyDrive/FESB/masks/gt_201.bmp\n",
            "/content/drive/MyDrive/FESB/images/src_202.jpg | /content/drive/MyDrive/FESB/masks/gt_202.bmp\n",
            "/content/drive/MyDrive/FESB/images/src_203.jpg | /content/drive/MyDrive/FESB/masks/gt_203.bmp\n",
            "/content/drive/MyDrive/FESB/images/src_204.jpg | /content/drive/MyDrive/FESB/masks/gt_204.bmp\n",
            "/content/drive/MyDrive/FESB/images/src_205.jpg | /content/drive/MyDrive/FESB/masks/gt_205.bmp\n",
            "/content/drive/MyDrive/FESB/images/src_206.jpg | /content/drive/MyDrive/FESB/masks/gt_206.bmp\n",
            "/content/drive/MyDrive/FESB/images/src_207.jpg | /content/drive/MyDrive/FESB/masks/gt_207.bmp\n",
            "/content/drive/MyDrive/FESB/images/src_208.jpg | /content/drive/MyDrive/FESB/masks/gt_208.bmp\n",
            "/content/drive/MyDrive/FESB/images/src_209.jpg | /content/drive/MyDrive/FESB/masks/gt_209.bmp\n",
            "/content/drive/MyDrive/FESB/images/src_21.jpg | /content/drive/MyDrive/FESB/masks/gt_21.bmp\n",
            "/content/drive/MyDrive/FESB/images/src_210.jpg | /content/drive/MyDrive/FESB/masks/gt_210.bmp\n",
            "/content/drive/MyDrive/FESB/images/src_211.jpg | /content/drive/MyDrive/FESB/masks/gt_211.bmp\n",
            "/content/drive/MyDrive/FESB/images/src_212.jpg | /content/drive/MyDrive/FESB/masks/gt_212.bmp\n",
            "/content/drive/MyDrive/FESB/images/src_213.jpg | /content/drive/MyDrive/FESB/masks/gt_213.bmp\n",
            "/content/drive/MyDrive/FESB/images/src_214.jpg | /content/drive/MyDrive/FESB/masks/gt_214.bmp\n",
            "/content/drive/MyDrive/FESB/images/src_215.jpg | /content/drive/MyDrive/FESB/masks/gt_215.bmp\n",
            "/content/drive/MyDrive/FESB/images/src_216.jpg | /content/drive/MyDrive/FESB/masks/gt_216.bmp\n",
            "/content/drive/MyDrive/FESB/images/src_217.jpg | /content/drive/MyDrive/FESB/masks/gt_217.bmp\n",
            "/content/drive/MyDrive/FESB/images/src_218.jpg | /content/drive/MyDrive/FESB/masks/gt_218.bmp\n",
            "/content/drive/MyDrive/FESB/images/src_219.jpg | /content/drive/MyDrive/FESB/masks/gt_219.bmp\n",
            "/content/drive/MyDrive/FESB/images/src_22.jpg | /content/drive/MyDrive/FESB/masks/gt_22.bmp\n",
            "/content/drive/MyDrive/FESB/images/src_220.jpg | /content/drive/MyDrive/FESB/masks/gt_220.bmp\n",
            "/content/drive/MyDrive/FESB/images/src_221.jpg | /content/drive/MyDrive/FESB/masks/gt_221.bmp\n",
            "/content/drive/MyDrive/FESB/images/src_222.jpg | /content/drive/MyDrive/FESB/masks/gt_222.bmp\n",
            "/content/drive/MyDrive/FESB/images/src_223.jpg | /content/drive/MyDrive/FESB/masks/gt_223.bmp\n",
            "/content/drive/MyDrive/FESB/images/src_224.jpg | /content/drive/MyDrive/FESB/masks/gt_224.bmp\n",
            "/content/drive/MyDrive/FESB/images/src_225.jpg | /content/drive/MyDrive/FESB/masks/gt_225.bmp\n",
            "/content/drive/MyDrive/FESB/images/src_226.jpg | /content/drive/MyDrive/FESB/masks/gt_226.bmp\n",
            "/content/drive/MyDrive/FESB/images/src_227.jpg | /content/drive/MyDrive/FESB/masks/gt_227.bmp\n",
            "/content/drive/MyDrive/FESB/images/src_228.jpg | /content/drive/MyDrive/FESB/masks/gt_228.bmp\n",
            "/content/drive/MyDrive/FESB/images/src_229.jpg | /content/drive/MyDrive/FESB/masks/gt_229.bmp\n",
            "/content/drive/MyDrive/FESB/images/src_23.jpg | /content/drive/MyDrive/FESB/masks/gt_23.bmp\n",
            "/content/drive/MyDrive/FESB/images/src_230.jpg | /content/drive/MyDrive/FESB/masks/gt_230.bmp\n",
            "/content/drive/MyDrive/FESB/images/src_231.jpg | /content/drive/MyDrive/FESB/masks/gt_231.bmp\n",
            "/content/drive/MyDrive/FESB/images/src_232.jpg | /content/drive/MyDrive/FESB/masks/gt_232.bmp\n",
            "/content/drive/MyDrive/FESB/images/src_233.jpg | /content/drive/MyDrive/FESB/masks/gt_233.bmp\n",
            "/content/drive/MyDrive/FESB/images/src_234.jpg | /content/drive/MyDrive/FESB/masks/gt_234.bmp\n",
            "/content/drive/MyDrive/FESB/images/src_235.jpg | /content/drive/MyDrive/FESB/masks/gt_235.bmp\n",
            "/content/drive/MyDrive/FESB/images/src_236.jpg | /content/drive/MyDrive/FESB/masks/gt_236.bmp\n",
            "/content/drive/MyDrive/FESB/images/src_237.jpg | /content/drive/MyDrive/FESB/masks/gt_237.bmp\n",
            "/content/drive/MyDrive/FESB/images/src_238.jpg | /content/drive/MyDrive/FESB/masks/gt_238.bmp\n",
            "/content/drive/MyDrive/FESB/images/src_239.jpg | /content/drive/MyDrive/FESB/masks/gt_239.bmp\n",
            "/content/drive/MyDrive/FESB/images/src_24.jpg | /content/drive/MyDrive/FESB/masks/gt_24.bmp\n",
            "/content/drive/MyDrive/FESB/images/src_240.jpg | /content/drive/MyDrive/FESB/masks/gt_240.bmp\n",
            "/content/drive/MyDrive/FESB/images/src_241.jpg | /content/drive/MyDrive/FESB/masks/gt_241.bmp\n",
            "/content/drive/MyDrive/FESB/images/src_242.jpg | /content/drive/MyDrive/FESB/masks/gt_242.bmp\n",
            "/content/drive/MyDrive/FESB/images/src_243.jpg | /content/drive/MyDrive/FESB/masks/gt_243.bmp\n",
            "/content/drive/MyDrive/FESB/images/src_244.jpg | /content/drive/MyDrive/FESB/masks/gt_244.bmp\n",
            "/content/drive/MyDrive/FESB/images/src_245.jpg | /content/drive/MyDrive/FESB/masks/gt_245.bmp\n",
            "/content/drive/MyDrive/FESB/images/src_246.jpg | /content/drive/MyDrive/FESB/masks/gt_246.bmp\n",
            "/content/drive/MyDrive/FESB/images/src_247.jpg | /content/drive/MyDrive/FESB/masks/gt_247.bmp\n",
            "/content/drive/MyDrive/FESB/images/src_248.jpg | /content/drive/MyDrive/FESB/masks/gt_248.bmp\n",
            "/content/drive/MyDrive/FESB/images/src_249.jpg | /content/drive/MyDrive/FESB/masks/gt_249.bmp\n",
            "/content/drive/MyDrive/FESB/images/src_25.jpg | /content/drive/MyDrive/FESB/masks/gt_25.bmp\n",
            "/content/drive/MyDrive/FESB/images/src_250.jpg | /content/drive/MyDrive/FESB/masks/gt_250.bmp\n",
            "/content/drive/MyDrive/FESB/images/src_251.jpg | /content/drive/MyDrive/FESB/masks/gt_251.bmp\n",
            "/content/drive/MyDrive/FESB/images/src_252.jpg | /content/drive/MyDrive/FESB/masks/gt_252.bmp\n",
            "/content/drive/MyDrive/FESB/images/src_253.jpg | /content/drive/MyDrive/FESB/masks/gt_253.bmp\n",
            "/content/drive/MyDrive/FESB/images/src_254.jpg | /content/drive/MyDrive/FESB/masks/gt_254.bmp\n",
            "/content/drive/MyDrive/FESB/images/src_255.jpg | /content/drive/MyDrive/FESB/masks/gt_255.bmp\n",
            "/content/drive/MyDrive/FESB/images/src_256.jpg | /content/drive/MyDrive/FESB/masks/gt_256.bmp\n",
            "/content/drive/MyDrive/FESB/images/src_257.jpg | /content/drive/MyDrive/FESB/masks/gt_257.bmp\n",
            "/content/drive/MyDrive/FESB/images/src_258.jpg | /content/drive/MyDrive/FESB/masks/gt_258.bmp\n",
            "/content/drive/MyDrive/FESB/images/src_259.jpg | /content/drive/MyDrive/FESB/masks/gt_259.bmp\n",
            "/content/drive/MyDrive/FESB/images/src_26.jpg | /content/drive/MyDrive/FESB/masks/gt_26.bmp\n",
            "/content/drive/MyDrive/FESB/images/src_260.jpg | /content/drive/MyDrive/FESB/masks/gt_260.bmp\n",
            "/content/drive/MyDrive/FESB/images/src_261.jpg | /content/drive/MyDrive/FESB/masks/gt_261.bmp\n",
            "/content/drive/MyDrive/FESB/images/src_262.jpg | /content/drive/MyDrive/FESB/masks/gt_262.bmp\n",
            "/content/drive/MyDrive/FESB/images/src_263.jpg | /content/drive/MyDrive/FESB/masks/gt_263.bmp\n",
            "/content/drive/MyDrive/FESB/images/src_264.jpg | /content/drive/MyDrive/FESB/masks/gt_264.bmp\n",
            "/content/drive/MyDrive/FESB/images/src_265.jpg | /content/drive/MyDrive/FESB/masks/gt_265.bmp\n",
            "/content/drive/MyDrive/FESB/images/src_266.jpg | /content/drive/MyDrive/FESB/masks/gt_266.bmp\n",
            "/content/drive/MyDrive/FESB/images/src_267.jpg | /content/drive/MyDrive/FESB/masks/gt_267.bmp\n",
            "/content/drive/MyDrive/FESB/images/src_268.jpg | /content/drive/MyDrive/FESB/masks/gt_268.bmp\n",
            "/content/drive/MyDrive/FESB/images/src_269.jpg | /content/drive/MyDrive/FESB/masks/gt_269.bmp\n",
            "/content/drive/MyDrive/FESB/images/src_27.jpg | /content/drive/MyDrive/FESB/masks/gt_27.bmp\n",
            "/content/drive/MyDrive/FESB/images/src_270.jpg | /content/drive/MyDrive/FESB/masks/gt_270.bmp\n",
            "/content/drive/MyDrive/FESB/images/src_271.jpg | /content/drive/MyDrive/FESB/masks/gt_271.bmp\n",
            "/content/drive/MyDrive/FESB/images/src_272.jpg | /content/drive/MyDrive/FESB/masks/gt_272.bmp\n",
            "/content/drive/MyDrive/FESB/images/src_273.jpg | /content/drive/MyDrive/FESB/masks/gt_273.bmp\n",
            "/content/drive/MyDrive/FESB/images/src_274.jpg | /content/drive/MyDrive/FESB/masks/gt_274.bmp\n",
            "/content/drive/MyDrive/FESB/images/src_275.jpg | /content/drive/MyDrive/FESB/masks/gt_275.bmp\n",
            "/content/drive/MyDrive/FESB/images/src_276.jpg | /content/drive/MyDrive/FESB/masks/gt_276.bmp\n",
            "/content/drive/MyDrive/FESB/images/src_277.jpg | /content/drive/MyDrive/FESB/masks/gt_277.bmp\n",
            "/content/drive/MyDrive/FESB/images/src_278.jpg | /content/drive/MyDrive/FESB/masks/gt_278.bmp\n",
            "/content/drive/MyDrive/FESB/images/src_279.jpg | /content/drive/MyDrive/FESB/masks/gt_279.bmp\n",
            "/content/drive/MyDrive/FESB/images/src_28.jpg | /content/drive/MyDrive/FESB/masks/gt_28.bmp\n",
            "/content/drive/MyDrive/FESB/images/src_280.jpg | /content/drive/MyDrive/FESB/masks/gt_280.bmp\n",
            "/content/drive/MyDrive/FESB/images/src_281.jpg | /content/drive/MyDrive/FESB/masks/gt_281.bmp\n",
            "/content/drive/MyDrive/FESB/images/src_282.jpg | /content/drive/MyDrive/FESB/masks/gt_282.bmp\n",
            "/content/drive/MyDrive/FESB/images/src_283.jpg | /content/drive/MyDrive/FESB/masks/gt_283.bmp\n",
            "/content/drive/MyDrive/FESB/images/src_284.jpg | /content/drive/MyDrive/FESB/masks/gt_284.bmp\n",
            "/content/drive/MyDrive/FESB/images/src_285.jpg | /content/drive/MyDrive/FESB/masks/gt_285.bmp\n",
            "/content/drive/MyDrive/FESB/images/src_286.jpg | /content/drive/MyDrive/FESB/masks/gt_286.bmp\n",
            "/content/drive/MyDrive/FESB/images/src_287.jpg | /content/drive/MyDrive/FESB/masks/gt_287.bmp\n",
            "/content/drive/MyDrive/FESB/images/src_288.jpg | /content/drive/MyDrive/FESB/masks/gt_288.bmp\n",
            "/content/drive/MyDrive/FESB/images/src_289.jpg | /content/drive/MyDrive/FESB/masks/gt_289.bmp\n",
            "/content/drive/MyDrive/FESB/images/src_29.jpg | /content/drive/MyDrive/FESB/masks/gt_29.bmp\n",
            "/content/drive/MyDrive/FESB/images/src_290.jpg | /content/drive/MyDrive/FESB/masks/gt_290.bmp\n",
            "/content/drive/MyDrive/FESB/images/src_291.jpg | /content/drive/MyDrive/FESB/masks/gt_291.bmp\n",
            "/content/drive/MyDrive/FESB/images/src_292.jpg | /content/drive/MyDrive/FESB/masks/gt_292.bmp\n",
            "/content/drive/MyDrive/FESB/images/src_293.jpg | /content/drive/MyDrive/FESB/masks/gt_293.bmp\n",
            "/content/drive/MyDrive/FESB/images/src_294.jpg | /content/drive/MyDrive/FESB/masks/gt_294.bmp\n",
            "/content/drive/MyDrive/FESB/images/src_295.jpg | /content/drive/MyDrive/FESB/masks/gt_295.bmp\n",
            "/content/drive/MyDrive/FESB/images/src_296.jpg | /content/drive/MyDrive/FESB/masks/gt_296.bmp\n",
            "/content/drive/MyDrive/FESB/images/src_297.jpg | /content/drive/MyDrive/FESB/masks/gt_297.bmp\n",
            "/content/drive/MyDrive/FESB/images/src_298.jpg | /content/drive/MyDrive/FESB/masks/gt_298.bmp\n",
            "/content/drive/MyDrive/FESB/images/src_299.jpg | /content/drive/MyDrive/FESB/masks/gt_299.bmp\n",
            "/content/drive/MyDrive/FESB/images/src_3.jpg | /content/drive/MyDrive/FESB/masks/gt_3.bmp\n",
            "/content/drive/MyDrive/FESB/images/src_30.jpg | /content/drive/MyDrive/FESB/masks/gt_30.bmp\n",
            "/content/drive/MyDrive/FESB/images/src_300.jpg | /content/drive/MyDrive/FESB/masks/gt_300.bmp\n",
            "/content/drive/MyDrive/FESB/images/src_301.jpg | /content/drive/MyDrive/FESB/masks/gt_301.bmp\n",
            "/content/drive/MyDrive/FESB/images/src_302.jpg | /content/drive/MyDrive/FESB/masks/gt_302.bmp\n",
            "/content/drive/MyDrive/FESB/images/src_303.jpg | /content/drive/MyDrive/FESB/masks/gt_303.bmp\n",
            "/content/drive/MyDrive/FESB/images/src_304.jpg | /content/drive/MyDrive/FESB/masks/gt_304.bmp\n",
            "/content/drive/MyDrive/FESB/images/src_305.jpg | /content/drive/MyDrive/FESB/masks/gt_305.bmp\n",
            "/content/drive/MyDrive/FESB/images/src_306.jpg | /content/drive/MyDrive/FESB/masks/gt_306.bmp\n",
            "/content/drive/MyDrive/FESB/images/src_307.jpg | /content/drive/MyDrive/FESB/masks/gt_307.bmp\n",
            "/content/drive/MyDrive/FESB/images/src_308.jpg | /content/drive/MyDrive/FESB/masks/gt_308.bmp\n",
            "/content/drive/MyDrive/FESB/images/src_309.jpg | /content/drive/MyDrive/FESB/masks/gt_309.bmp\n",
            "/content/drive/MyDrive/FESB/images/src_31.jpg | /content/drive/MyDrive/FESB/masks/gt_31.bmp\n",
            "/content/drive/MyDrive/FESB/images/src_310.jpg | /content/drive/MyDrive/FESB/masks/gt_310.bmp\n",
            "/content/drive/MyDrive/FESB/images/src_311.jpg | /content/drive/MyDrive/FESB/masks/gt_311.bmp\n",
            "/content/drive/MyDrive/FESB/images/src_312.jpg | /content/drive/MyDrive/FESB/masks/gt_312.bmp\n",
            "/content/drive/MyDrive/FESB/images/src_313.jpg | /content/drive/MyDrive/FESB/masks/gt_313.bmp\n",
            "/content/drive/MyDrive/FESB/images/src_314.jpg | /content/drive/MyDrive/FESB/masks/gt_314.bmp\n",
            "/content/drive/MyDrive/FESB/images/src_315.jpg | /content/drive/MyDrive/FESB/masks/gt_315.bmp\n",
            "/content/drive/MyDrive/FESB/images/src_316.jpg | /content/drive/MyDrive/FESB/masks/gt_316.bmp\n",
            "/content/drive/MyDrive/FESB/images/src_317.jpg | /content/drive/MyDrive/FESB/masks/gt_317.bmp\n",
            "/content/drive/MyDrive/FESB/images/src_318.jpg | /content/drive/MyDrive/FESB/masks/gt_318.bmp\n",
            "/content/drive/MyDrive/FESB/images/src_319.jpg | /content/drive/MyDrive/FESB/masks/gt_319.bmp\n",
            "/content/drive/MyDrive/FESB/images/src_32.jpg | /content/drive/MyDrive/FESB/masks/gt_32.bmp\n",
            "/content/drive/MyDrive/FESB/images/src_320.jpg | /content/drive/MyDrive/FESB/masks/gt_320.bmp\n",
            "/content/drive/MyDrive/FESB/images/src_321.jpg | /content/drive/MyDrive/FESB/masks/gt_321.bmp\n",
            "/content/drive/MyDrive/FESB/images/src_322.jpg | /content/drive/MyDrive/FESB/masks/gt_322.bmp\n",
            "/content/drive/MyDrive/FESB/images/src_323.jpg | /content/drive/MyDrive/FESB/masks/gt_323.bmp\n",
            "/content/drive/MyDrive/FESB/images/src_324.jpg | /content/drive/MyDrive/FESB/masks/gt_324.bmp\n",
            "/content/drive/MyDrive/FESB/images/src_325.jpg | /content/drive/MyDrive/FESB/masks/gt_325.bmp\n",
            "/content/drive/MyDrive/FESB/images/src_326.jpg | /content/drive/MyDrive/FESB/masks/gt_326.bmp\n",
            "/content/drive/MyDrive/FESB/images/src_327.jpg | /content/drive/MyDrive/FESB/masks/gt_327.bmp\n",
            "/content/drive/MyDrive/FESB/images/src_328.jpg | /content/drive/MyDrive/FESB/masks/gt_328.bmp\n",
            "/content/drive/MyDrive/FESB/images/src_329.jpg | /content/drive/MyDrive/FESB/masks/gt_329.bmp\n",
            "/content/drive/MyDrive/FESB/images/src_33.jpg | /content/drive/MyDrive/FESB/masks/gt_33.bmp\n",
            "/content/drive/MyDrive/FESB/images/src_330.jpg | /content/drive/MyDrive/FESB/masks/gt_330.bmp\n",
            "/content/drive/MyDrive/FESB/images/src_331.jpg | /content/drive/MyDrive/FESB/masks/gt_331.bmp\n",
            "/content/drive/MyDrive/FESB/images/src_332.jpg | /content/drive/MyDrive/FESB/masks/gt_332.bmp\n",
            "/content/drive/MyDrive/FESB/images/src_333.jpg | /content/drive/MyDrive/FESB/masks/gt_333.bmp\n",
            "/content/drive/MyDrive/FESB/images/src_334.jpg | /content/drive/MyDrive/FESB/masks/gt_334.bmp\n",
            "/content/drive/MyDrive/FESB/images/src_335.jpg | /content/drive/MyDrive/FESB/masks/gt_335.bmp\n",
            "/content/drive/MyDrive/FESB/images/src_336.jpg | /content/drive/MyDrive/FESB/masks/gt_336.bmp\n",
            "/content/drive/MyDrive/FESB/images/src_337.jpg | /content/drive/MyDrive/FESB/masks/gt_337.bmp\n",
            "/content/drive/MyDrive/FESB/images/src_338.jpg | /content/drive/MyDrive/FESB/masks/gt_338.bmp\n",
            "/content/drive/MyDrive/FESB/images/src_339.jpg | /content/drive/MyDrive/FESB/masks/gt_339.bmp\n",
            "/content/drive/MyDrive/FESB/images/src_34.jpg | /content/drive/MyDrive/FESB/masks/gt_34.bmp\n",
            "/content/drive/MyDrive/FESB/images/src_340.jpg | /content/drive/MyDrive/FESB/masks/gt_340.bmp\n",
            "/content/drive/MyDrive/FESB/images/src_341.jpg | /content/drive/MyDrive/FESB/masks/gt_341.bmp\n",
            "/content/drive/MyDrive/FESB/images/src_342.jpg | /content/drive/MyDrive/FESB/masks/gt_342.bmp\n",
            "/content/drive/MyDrive/FESB/images/src_343.jpg | /content/drive/MyDrive/FESB/masks/gt_343.bmp\n",
            "/content/drive/MyDrive/FESB/images/src_344.jpg | /content/drive/MyDrive/FESB/masks/gt_344.bmp\n",
            "/content/drive/MyDrive/FESB/images/src_345.jpg | /content/drive/MyDrive/FESB/masks/gt_345.bmp\n",
            "/content/drive/MyDrive/FESB/images/src_346.jpg | /content/drive/MyDrive/FESB/masks/gt_346.bmp\n",
            "/content/drive/MyDrive/FESB/images/src_347.jpg | /content/drive/MyDrive/FESB/masks/gt_347.bmp\n",
            "/content/drive/MyDrive/FESB/images/src_348.jpg | /content/drive/MyDrive/FESB/masks/gt_348.bmp\n",
            "/content/drive/MyDrive/FESB/images/src_349.jpg | /content/drive/MyDrive/FESB/masks/gt_349.bmp\n",
            "/content/drive/MyDrive/FESB/images/src_35.jpg | /content/drive/MyDrive/FESB/masks/gt_35.bmp\n",
            "/content/drive/MyDrive/FESB/images/src_350.jpg | /content/drive/MyDrive/FESB/masks/gt_350.bmp\n",
            "/content/drive/MyDrive/FESB/images/src_351.jpg | /content/drive/MyDrive/FESB/masks/gt_351.bmp\n",
            "/content/drive/MyDrive/FESB/images/src_352.jpg | /content/drive/MyDrive/FESB/masks/gt_352.bmp\n",
            "/content/drive/MyDrive/FESB/images/src_353.jpg | /content/drive/MyDrive/FESB/masks/gt_353.bmp\n",
            "/content/drive/MyDrive/FESB/images/src_354.jpg | /content/drive/MyDrive/FESB/masks/gt_354.bmp\n",
            "/content/drive/MyDrive/FESB/images/src_355.jpg | /content/drive/MyDrive/FESB/masks/gt_355.bmp\n",
            "/content/drive/MyDrive/FESB/images/src_356.jpg | /content/drive/MyDrive/FESB/masks/gt_356.bmp\n",
            "/content/drive/MyDrive/FESB/images/src_357.jpg | /content/drive/MyDrive/FESB/masks/gt_357.bmp\n",
            "/content/drive/MyDrive/FESB/images/src_358.jpg | /content/drive/MyDrive/FESB/masks/gt_358.bmp\n",
            "/content/drive/MyDrive/FESB/images/src_359.jpg | /content/drive/MyDrive/FESB/masks/gt_359.bmp\n",
            "/content/drive/MyDrive/FESB/images/src_36.jpg | /content/drive/MyDrive/FESB/masks/gt_36.bmp\n",
            "/content/drive/MyDrive/FESB/images/src_360.jpg | /content/drive/MyDrive/FESB/masks/gt_360.bmp\n",
            "/content/drive/MyDrive/FESB/images/src_361.jpg | /content/drive/MyDrive/FESB/masks/gt_361.bmp\n",
            "/content/drive/MyDrive/FESB/images/src_362.jpg | /content/drive/MyDrive/FESB/masks/gt_362.bmp\n",
            "/content/drive/MyDrive/FESB/images/src_363.jpg | /content/drive/MyDrive/FESB/masks/gt_363.bmp\n",
            "/content/drive/MyDrive/FESB/images/src_364.jpg | /content/drive/MyDrive/FESB/masks/gt_364.bmp\n",
            "/content/drive/MyDrive/FESB/images/src_365.jpg | /content/drive/MyDrive/FESB/masks/gt_365.bmp\n",
            "/content/drive/MyDrive/FESB/images/src_366.jpg | /content/drive/MyDrive/FESB/masks/gt_366.bmp\n",
            "/content/drive/MyDrive/FESB/images/src_367.jpg | /content/drive/MyDrive/FESB/masks/gt_367.bmp\n",
            "/content/drive/MyDrive/FESB/images/src_368.jpg | /content/drive/MyDrive/FESB/masks/gt_368.bmp\n",
            "/content/drive/MyDrive/FESB/images/src_369.jpg | /content/drive/MyDrive/FESB/masks/gt_369.bmp\n",
            "/content/drive/MyDrive/FESB/images/src_37.jpg | /content/drive/MyDrive/FESB/masks/gt_37.bmp\n",
            "/content/drive/MyDrive/FESB/images/src_370.jpg | /content/drive/MyDrive/FESB/masks/gt_370.bmp\n",
            "/content/drive/MyDrive/FESB/images/src_371.jpg | /content/drive/MyDrive/FESB/masks/gt_371.bmp\n",
            "/content/drive/MyDrive/FESB/images/src_372.jpg | /content/drive/MyDrive/FESB/masks/gt_372.bmp\n",
            "/content/drive/MyDrive/FESB/images/src_373.jpg | /content/drive/MyDrive/FESB/masks/gt_373.bmp\n",
            "/content/drive/MyDrive/FESB/images/src_374.jpg | /content/drive/MyDrive/FESB/masks/gt_374.bmp\n",
            "/content/drive/MyDrive/FESB/images/src_375.jpg | /content/drive/MyDrive/FESB/masks/gt_375.bmp\n",
            "/content/drive/MyDrive/FESB/images/src_376.jpg | /content/drive/MyDrive/FESB/masks/gt_376.bmp\n",
            "/content/drive/MyDrive/FESB/images/src_377.jpg | /content/drive/MyDrive/FESB/masks/gt_377.bmp\n",
            "/content/drive/MyDrive/FESB/images/src_378.jpg | /content/drive/MyDrive/FESB/masks/gt_378.bmp\n",
            "/content/drive/MyDrive/FESB/images/src_379.jpg | /content/drive/MyDrive/FESB/masks/gt_379.bmp\n",
            "/content/drive/MyDrive/FESB/images/src_38.jpg | /content/drive/MyDrive/FESB/masks/gt_38.bmp\n",
            "/content/drive/MyDrive/FESB/images/src_380.jpg | /content/drive/MyDrive/FESB/masks/gt_380.bmp\n",
            "/content/drive/MyDrive/FESB/images/src_381.jpg | /content/drive/MyDrive/FESB/masks/gt_381.bmp\n",
            "/content/drive/MyDrive/FESB/images/src_382.jpg | /content/drive/MyDrive/FESB/masks/gt_382.bmp\n",
            "/content/drive/MyDrive/FESB/images/src_383.jpg | /content/drive/MyDrive/FESB/masks/gt_383.bmp\n",
            "/content/drive/MyDrive/FESB/images/src_384.jpg | /content/drive/MyDrive/FESB/masks/gt_384.bmp\n",
            "/content/drive/MyDrive/FESB/images/src_385.jpg | /content/drive/MyDrive/FESB/masks/gt_385.bmp\n",
            "/content/drive/MyDrive/FESB/images/src_386.jpg | /content/drive/MyDrive/FESB/masks/gt_386.bmp\n",
            "/content/drive/MyDrive/FESB/images/src_387.jpg | /content/drive/MyDrive/FESB/masks/gt_387.bmp\n",
            "/content/drive/MyDrive/FESB/images/src_388.jpg | /content/drive/MyDrive/FESB/masks/gt_388.bmp\n",
            "/content/drive/MyDrive/FESB/images/src_389.jpg | /content/drive/MyDrive/FESB/masks/gt_389.bmp\n",
            "/content/drive/MyDrive/FESB/images/src_39.jpg | /content/drive/MyDrive/FESB/masks/gt_39.bmp\n",
            "/content/drive/MyDrive/FESB/images/src_390.jpg | /content/drive/MyDrive/FESB/masks/gt_390.bmp\n",
            "/content/drive/MyDrive/FESB/images/src_391.jpg | /content/drive/MyDrive/FESB/masks/gt_391.bmp\n",
            "/content/drive/MyDrive/FESB/images/src_392.jpg | /content/drive/MyDrive/FESB/masks/gt_392.bmp\n",
            "/content/drive/MyDrive/FESB/images/src_393.jpg | /content/drive/MyDrive/FESB/masks/gt_393.bmp\n",
            "/content/drive/MyDrive/FESB/images/src_394.jpg | /content/drive/MyDrive/FESB/masks/gt_394.bmp\n",
            "/content/drive/MyDrive/FESB/images/src_395.jpg | /content/drive/MyDrive/FESB/masks/gt_395.bmp\n",
            "/content/drive/MyDrive/FESB/images/src_396.jpg | /content/drive/MyDrive/FESB/masks/gt_396.bmp\n",
            "/content/drive/MyDrive/FESB/images/src_397.jpg | /content/drive/MyDrive/FESB/masks/gt_397.bmp\n",
            "/content/drive/MyDrive/FESB/images/src_398.jpg | /content/drive/MyDrive/FESB/masks/gt_398.bmp\n",
            "/content/drive/MyDrive/FESB/images/src_399.jpg | /content/drive/MyDrive/FESB/masks/gt_399.bmp\n",
            "/content/drive/MyDrive/FESB/images/src_4.jpg | /content/drive/MyDrive/FESB/masks/gt_4.bmp\n",
            "/content/drive/MyDrive/FESB/images/src_40.jpg | /content/drive/MyDrive/FESB/masks/gt_40.bmp\n",
            "/content/drive/MyDrive/FESB/images/src_400.jpg | /content/drive/MyDrive/FESB/masks/gt_400.bmp\n",
            "/content/drive/MyDrive/FESB/images/src_41.jpg | /content/drive/MyDrive/FESB/masks/gt_41.bmp\n",
            "/content/drive/MyDrive/FESB/images/src_42.jpg | /content/drive/MyDrive/FESB/masks/gt_42.bmp\n",
            "/content/drive/MyDrive/FESB/images/src_43.jpg | /content/drive/MyDrive/FESB/masks/gt_43.bmp\n",
            "/content/drive/MyDrive/FESB/images/src_44.jpg | /content/drive/MyDrive/FESB/masks/gt_44.bmp\n",
            "/content/drive/MyDrive/FESB/images/src_45.jpg | /content/drive/MyDrive/FESB/masks/gt_45.bmp\n",
            "/content/drive/MyDrive/FESB/images/src_46.jpg | /content/drive/MyDrive/FESB/masks/gt_46.bmp\n",
            "/content/drive/MyDrive/FESB/images/src_47.jpg | /content/drive/MyDrive/FESB/masks/gt_47.bmp\n",
            "/content/drive/MyDrive/FESB/images/src_48.jpg | /content/drive/MyDrive/FESB/masks/gt_48.bmp\n",
            "/content/drive/MyDrive/FESB/images/src_49.jpg | /content/drive/MyDrive/FESB/masks/gt_49.bmp\n",
            "/content/drive/MyDrive/FESB/images/src_5.jpg | /content/drive/MyDrive/FESB/masks/gt_5.bmp\n",
            "/content/drive/MyDrive/FESB/images/src_50.jpg | /content/drive/MyDrive/FESB/masks/gt_50.bmp\n",
            "/content/drive/MyDrive/FESB/images/src_51.jpg | /content/drive/MyDrive/FESB/masks/gt_51.bmp\n",
            "/content/drive/MyDrive/FESB/images/src_52.jpg | /content/drive/MyDrive/FESB/masks/gt_52.bmp\n",
            "/content/drive/MyDrive/FESB/images/src_53.jpg | /content/drive/MyDrive/FESB/masks/gt_53.bmp\n",
            "/content/drive/MyDrive/FESB/images/src_54.jpg | /content/drive/MyDrive/FESB/masks/gt_54.bmp\n",
            "/content/drive/MyDrive/FESB/images/src_55.jpg | /content/drive/MyDrive/FESB/masks/gt_55.bmp\n",
            "/content/drive/MyDrive/FESB/images/src_56.jpg | /content/drive/MyDrive/FESB/masks/gt_56.bmp\n",
            "/content/drive/MyDrive/FESB/images/src_57.jpg | /content/drive/MyDrive/FESB/masks/gt_57.bmp\n",
            "/content/drive/MyDrive/FESB/images/src_58.jpg | /content/drive/MyDrive/FESB/masks/gt_58.bmp\n",
            "/content/drive/MyDrive/FESB/images/src_59.jpg | /content/drive/MyDrive/FESB/masks/gt_59.bmp\n",
            "/content/drive/MyDrive/FESB/images/src_6.jpg | /content/drive/MyDrive/FESB/masks/gt_6.bmp\n",
            "/content/drive/MyDrive/FESB/images/src_60.jpg | /content/drive/MyDrive/FESB/masks/gt_60.bmp\n",
            "/content/drive/MyDrive/FESB/images/src_61.jpg | /content/drive/MyDrive/FESB/masks/gt_61.bmp\n",
            "/content/drive/MyDrive/FESB/images/src_62.jpg | /content/drive/MyDrive/FESB/masks/gt_62.bmp\n",
            "/content/drive/MyDrive/FESB/images/src_63.jpg | /content/drive/MyDrive/FESB/masks/gt_63.bmp\n",
            "/content/drive/MyDrive/FESB/images/src_64.jpg | /content/drive/MyDrive/FESB/masks/gt_64.bmp\n",
            "/content/drive/MyDrive/FESB/images/src_65.jpg | /content/drive/MyDrive/FESB/masks/gt_65.bmp\n",
            "/content/drive/MyDrive/FESB/images/src_66.jpg | /content/drive/MyDrive/FESB/masks/gt_66.bmp\n",
            "/content/drive/MyDrive/FESB/images/src_67.jpg | /content/drive/MyDrive/FESB/masks/gt_67.bmp\n",
            "/content/drive/MyDrive/FESB/images/src_68.jpg | /content/drive/MyDrive/FESB/masks/gt_68.bmp\n",
            "/content/drive/MyDrive/FESB/images/src_69.jpg | /content/drive/MyDrive/FESB/masks/gt_69.bmp\n",
            "/content/drive/MyDrive/FESB/images/src_7.jpg | /content/drive/MyDrive/FESB/masks/gt_7.bmp\n",
            "/content/drive/MyDrive/FESB/images/src_70.jpg | /content/drive/MyDrive/FESB/masks/gt_70.bmp\n",
            "/content/drive/MyDrive/FESB/images/src_71.jpg | /content/drive/MyDrive/FESB/masks/gt_71.bmp\n",
            "/content/drive/MyDrive/FESB/images/src_72.jpg | /content/drive/MyDrive/FESB/masks/gt_72.bmp\n",
            "/content/drive/MyDrive/FESB/images/src_73.jpg | /content/drive/MyDrive/FESB/masks/gt_73.bmp\n",
            "/content/drive/MyDrive/FESB/images/src_74.jpg | /content/drive/MyDrive/FESB/masks/gt_74.bmp\n",
            "/content/drive/MyDrive/FESB/images/src_75.jpg | /content/drive/MyDrive/FESB/masks/gt_75.bmp\n",
            "/content/drive/MyDrive/FESB/images/src_76.jpg | /content/drive/MyDrive/FESB/masks/gt_76.bmp\n",
            "/content/drive/MyDrive/FESB/images/src_77.jpg | /content/drive/MyDrive/FESB/masks/gt_77.bmp\n",
            "/content/drive/MyDrive/FESB/images/src_78.jpg | /content/drive/MyDrive/FESB/masks/gt_78.bmp\n",
            "/content/drive/MyDrive/FESB/images/src_79.jpg | /content/drive/MyDrive/FESB/masks/gt_79.bmp\n",
            "/content/drive/MyDrive/FESB/images/src_8.jpg | /content/drive/MyDrive/FESB/masks/gt_8.bmp\n",
            "/content/drive/MyDrive/FESB/images/src_80.jpg | /content/drive/MyDrive/FESB/masks/gt_80.bmp\n",
            "/content/drive/MyDrive/FESB/images/src_81.jpg | /content/drive/MyDrive/FESB/masks/gt_81.bmp\n",
            "/content/drive/MyDrive/FESB/images/src_82.jpg | /content/drive/MyDrive/FESB/masks/gt_82.bmp\n",
            "/content/drive/MyDrive/FESB/images/src_83.jpg | /content/drive/MyDrive/FESB/masks/gt_83.bmp\n",
            "/content/drive/MyDrive/FESB/images/src_84.jpg | /content/drive/MyDrive/FESB/masks/gt_84.bmp\n",
            "/content/drive/MyDrive/FESB/images/src_85.jpg | /content/drive/MyDrive/FESB/masks/gt_85.bmp\n",
            "/content/drive/MyDrive/FESB/images/src_86.jpg | /content/drive/MyDrive/FESB/masks/gt_86.bmp\n",
            "/content/drive/MyDrive/FESB/images/src_87.jpg | /content/drive/MyDrive/FESB/masks/gt_87.bmp\n",
            "/content/drive/MyDrive/FESB/images/src_88.jpg | /content/drive/MyDrive/FESB/masks/gt_88.bmp\n",
            "/content/drive/MyDrive/FESB/images/src_89.jpg | /content/drive/MyDrive/FESB/masks/gt_89.bmp\n",
            "/content/drive/MyDrive/FESB/images/src_9.jpg | /content/drive/MyDrive/FESB/masks/gt_9.bmp\n",
            "/content/drive/MyDrive/FESB/images/src_90.jpg | /content/drive/MyDrive/FESB/masks/gt_90.bmp\n",
            "/content/drive/MyDrive/FESB/images/src_91.jpg | /content/drive/MyDrive/FESB/masks/gt_91.bmp\n",
            "/content/drive/MyDrive/FESB/images/src_92.jpg | /content/drive/MyDrive/FESB/masks/gt_92.bmp\n",
            "/content/drive/MyDrive/FESB/images/src_93.jpg | /content/drive/MyDrive/FESB/masks/gt_93.bmp\n",
            "/content/drive/MyDrive/FESB/images/src_94.jpg | /content/drive/MyDrive/FESB/masks/gt_94.bmp\n",
            "/content/drive/MyDrive/FESB/images/src_95.jpg | /content/drive/MyDrive/FESB/masks/gt_95.bmp\n",
            "/content/drive/MyDrive/FESB/images/src_96.jpg | /content/drive/MyDrive/FESB/masks/gt_96.bmp\n",
            "/content/drive/MyDrive/FESB/images/src_97.jpg | /content/drive/MyDrive/FESB/masks/gt_97.bmp\n",
            "/content/drive/MyDrive/FESB/images/src_98.jpg | /content/drive/MyDrive/FESB/masks/gt_98.bmp\n",
            "/content/drive/MyDrive/FESB/images/src_99.jpg | /content/drive/MyDrive/FESB/masks/gt_99.bmp\n"
          ],
          "name": "stdout"
        }
      ]
    },
    {
      "cell_type": "code",
      "metadata": {
        "colab": {
          "base_uri": "https://localhost:8080/",
          "height": 593
        },
        "id": "lWuUkjGrp68V",
        "outputId": "3a17150d-4efe-403d-db7b-56a53fa2cc00"
      },
      "source": [
        "display(Image(filename=input_img_paths[399]))"
      ],
      "execution_count": 8,
      "outputs": [
        {
          "output_type": "display_data",
          "data": {
            "image/jpeg": "[encoded data removed]",
            "text/plain": [
              "<IPython.core.display.Image object>"
            ]
          },
          "metadata": {
            "tags": []
          }
        }
      ]
    },
    {
      "cell_type": "code",
      "metadata": {
        "colab": {
          "base_uri": "https://localhost:8080/",
          "height": 593
        },
        "id": "W0koUiO7qFA9",
        "outputId": "0b2a90ef-b288-4abe-84eb-44b3fd4b361d"
      },
      "source": [
        "img = PIL.ImageOps.autocontrast(load_img(target_img_paths[399]))\n",
        "display(img)"
      ],
      "execution_count": 9,
      "outputs": [
        {
          "output_type": "display_data",
          "data": {
            "image/png": "[encoded data removed]",
            "text/plain": [
              "<PIL.Image.Image image mode=RGB size=768x576 at 0x7F60D399AD90>"
            ]
          },
          "metadata": {
            "tags": []
          }
        }
      ]
    },
    {
      "cell_type": "code",
      "metadata": {
        "id": "s5WPT5V9qKRc"
      },
      "source": [
        "class FESB_MLID(keras.utils.Sequence):\n",
        "    \"\"\" Helper to iterate over the data (as Numpy arrays). \"\"\"\n",
        "\n",
        "    def __init__(self, batch_size, img_width, img_height, input_img_paths, target_img_paths):\n",
        "        self.batch_size = batch_size\n",
        "        self.img_width = img_width\n",
        "        self.img_height = img_height\n",
        "        self.input_img_paths = input_img_paths\n",
        "        self.target_img_paths = target_img_paths\n",
        "\n",
        "    def __len__(self):\n",
        "        return len(self.target_img_paths) // self.batch_size\n",
        "\n",
        "    def __getitem__(self, idx):\n",
        "        \"\"\" Returns tuple (input, target) correspond to batch #idx. \"\"\"\n",
        "\n",
        "        i = idx * self.batch_size\n",
        "        batch_input_img_paths = self.input_img_paths[i : i + self.batch_size]\n",
        "        batch_target_img_paths = self.target_img_paths[i : i + self.batch_size]\n",
        "\n",
        "        x = np.zeros((self.batch_size, img_height, img_width, 3), dtype=np.float32)\n",
        "        for image_index, path in enumerate(batch_input_img_paths):\n",
        "            img = load_img(path)\n",
        "            x_img = img_to_array(img)\n",
        "            x_img = resize(x_img, (img_height, img_width, 3), mode='constant')\n",
        "            x[image_index] = x_img\n",
        "\n",
        "        y = np.zeros((self.batch_size, img_height, img_width, 3), dtype=np.float32)\n",
        "        for target_index, path in enumerate(batch_target_img_paths):\n",
        "            target_img = img_to_array(load_img(path))\n",
        "            target_img = resize(target_img, (img_height, img_width, 3), mode='constant')\n",
        "            y[target_index] = target_img / 255\n",
        "        \n",
        "        return x, y"
      ],
      "execution_count": 10,
      "outputs": []
    },
    {
      "cell_type": "code",
      "metadata": {
        "id": "YB6jpypyqRFs"
      },
      "source": [
        "import random\n",
        "\n",
        "val_samples = 20\n",
        "random.Random(1337).shuffle(input_img_paths)\n",
        "random.Random(1337).shuffle(target_img_paths)\n",
        "\n",
        "train_input_img_paths = input_img_paths[:-val_samples]\n",
        "train_target_img_paths = target_img_paths[:-val_samples]\n",
        "\n",
        "val_input_img_paths = input_img_paths[-val_samples:]\n",
        "val_target_img_paths = target_img_paths[-val_samples:]\n",
        "\n",
        "train_gen = FESB_MLID(\n",
        "    batch_size, img_width, img_height, train_input_img_paths, train_target_img_paths\n",
        ")\n",
        "val_gen = FESB_MLID(\n",
        "    batch_size, img_width, img_height, val_input_img_paths, val_target_img_paths)"
      ],
      "execution_count": 11,
      "outputs": []
    },
    {
      "cell_type": "code",
      "metadata": {
        "colab": {
          "base_uri": "https://localhost:8080/"
        },
        "id": "ntYlTPW9qTxT",
        "outputId": "478ddd79-f288-443c-a10d-a071335661c3"
      },
      "source": [
        "type(train_gen)"
      ],
      "execution_count": 12,
      "outputs": [
        {
          "output_type": "execute_result",
          "data": {
            "text/plain": [
              "__main__.FESB_MLID"
            ]
          },
          "metadata": {
            "tags": []
          },
          "execution_count": 12
        }
      ]
    },
    {
      "cell_type": "code",
      "metadata": {
        "colab": {
          "base_uri": "https://localhost:8080/"
        },
        "id": "yaNHuoieqWPd",
        "outputId": "203b27d5-d138-475a-83c7-baaae1580a27"
      },
      "source": [
        "type(train_gen[0])"
      ],
      "execution_count": 13,
      "outputs": [
        {
          "output_type": "execute_result",
          "data": {
            "text/plain": [
              "tuple"
            ]
          },
          "metadata": {
            "tags": []
          },
          "execution_count": 13
        }
      ]
    },
    {
      "cell_type": "code",
      "metadata": {
        "colab": {
          "base_uri": "https://localhost:8080/"
        },
        "id": "zw8FOw1tqXuF",
        "outputId": "d60dc7d2-8432-463d-da90-7956e85e484d"
      },
      "source": [
        "type(train_gen[0][0])"
      ],
      "execution_count": 14,
      "outputs": [
        {
          "output_type": "execute_result",
          "data": {
            "text/plain": [
              "numpy.ndarray"
            ]
          },
          "metadata": {
            "tags": []
          },
          "execution_count": 14
        }
      ]
    },
    {
      "cell_type": "code",
      "metadata": {
        "colab": {
          "base_uri": "https://localhost:8080/"
        },
        "id": "06RAjPW-qZj7",
        "outputId": "9136921d-009c-42c4-d992-123b05260c07"
      },
      "source": [
        "type(train_gen[0][1])"
      ],
      "execution_count": 15,
      "outputs": [
        {
          "output_type": "execute_result",
          "data": {
            "text/plain": [
              "numpy.ndarray"
            ]
          },
          "metadata": {
            "tags": []
          },
          "execution_count": 15
        }
      ]
    },
    {
      "cell_type": "code",
      "metadata": {
        "id": "54Eee39oqcMD"
      },
      "source": [
        "def conv2d_block(input_tensor, n_filters, kernel_size=3):\n",
        "    # first layer\n",
        "    x = Conv2D(filters=n_filters, kernel_size=(kernel_size, kernel_size), padding=\"same\")(input_tensor)\n",
        "    x = Activation(\"relu\")(x)\n",
        "    # second layer\n",
        "    x = Conv2D(filters=n_filters, kernel_size=(kernel_size, kernel_size), padding=\"same\")(x)\n",
        "    x = Activation(\"relu\")(x)\n",
        "    return x"
      ],
      "execution_count": 16,
      "outputs": []
    },
    {
      "cell_type": "code",
      "metadata": {
        "id": "X0ZEK71kq1Fa"
      },
      "source": [
        "def get_model(input_img, n_filters=16):\n",
        "    # contracting path\n",
        "    c1 = conv2d_block(input_img, n_filters=n_filters*1, kernel_size=3)\n",
        "    p1 = MaxPooling2D((2, 2)) (c1)\n",
        "\n",
        "    c2 = conv2d_block(p1, n_filters=n_filters*2, kernel_size=3)\n",
        "    p2 = MaxPooling2D((2, 2)) (c2)\n",
        "\n",
        "    c3 = conv2d_block(p2, n_filters=n_filters*4, kernel_size=3)\n",
        "    p3 = MaxPooling2D((2, 2)) (c3)\n",
        "\n",
        "    c4 = conv2d_block(p3, n_filters=n_filters*8, kernel_size=3)\n",
        "    p4 = MaxPooling2D(pool_size=(2, 2)) (c4)\n",
        "    \n",
        "    c5 = conv2d_block(p4, n_filters=n_filters*16, kernel_size=3)\n",
        "    \n",
        "    # expansive path\n",
        "    u6 = Conv2DTranspose(n_filters*8, (3, 3), strides=(2, 2), padding='same') (c5)\n",
        "    u6 = concatenate([u6, c4])\n",
        "    c6 = conv2d_block(u6, n_filters=n_filters*8, kernel_size=3)\n",
        "\n",
        "    u7 = Conv2DTranspose(n_filters*4, (3, 3), strides=(2, 2), padding='same') (c6)\n",
        "    u7 = concatenate([u7, c3])\n",
        "    c7 = conv2d_block(u7, n_filters=n_filters*4, kernel_size=3)\n",
        "\n",
        "    u8 = Conv2DTranspose(n_filters*2, (3, 3), strides=(2, 2), padding='same') (c7)\n",
        "    u8 = concatenate([u8, c2])\n",
        "    c8 = conv2d_block(u8, n_filters=n_filters*2, kernel_size=3)\n",
        "\n",
        "    u9 = Conv2DTranspose(n_filters*1, (3, 3), strides=(2, 2), padding='same') (c8)\n",
        "    u9 = concatenate([u9, c1], axis=3)\n",
        "    c9 = conv2d_block(u9, n_filters=n_filters*1, kernel_size=3)\n",
        "    \n",
        "    outputs = Conv2D(1, (1, 1), activation='sigmoid') (c9)\n",
        "    model = Model(inputs=[input_img], outputs=[outputs])\n",
        "    return model"
      ],
      "execution_count": 17,
      "outputs": []
    },
    {
      "cell_type": "code",
      "metadata": {
        "colab": {
          "base_uri": "https://localhost:8080/"
        },
        "id": "YP9_WMqVr7Vu",
        "outputId": "782a5577-f103-4c2b-b03a-38f199665f9f"
      },
      "source": [
        "input_img = Input((img_height, img_width, 3), name='img')\n",
        "model = get_model(input_img, n_filters=16)\n",
        "\n",
        "model.compile(optimizer=Adam(), loss=\"binary_crossentropy\", metrics=[\"accuracy\"])\n",
        "model.summary()"
      ],
      "execution_count": 18,
      "outputs": [
        {
          "output_type": "stream",
          "text": [
            "Model: \"model\"\n",
            "__________________________________________________________________________________________________\n",
            "Layer (type)                    Output Shape         Param #     Connected to                     \n",
            "==================================================================================================\n",
            "img (InputLayer)                [(None, 512, 512, 3) 0                                            \n",
            "__________________________________________________________________________________________________\n",
            "conv2d (Conv2D)                 (None, 512, 512, 16) 448         img[0][0]                        \n",
            "__________________________________________________________________________________________________\n",
            "activation (Activation)         (None, 512, 512, 16) 0           conv2d[0][0]                     \n",
            "__________________________________________________________________________________________________\n",
            "conv2d_1 (Conv2D)               (None, 512, 512, 16) 2320        activation[0][0]                 \n",
            "__________________________________________________________________________________________________\n",
            "activation_1 (Activation)       (None, 512, 512, 16) 0           conv2d_1[0][0]                   \n",
            "__________________________________________________________________________________________________\n",
            "max_pooling2d (MaxPooling2D)    (None, 256, 256, 16) 0           activation_1[0][0]               \n",
            "__________________________________________________________________________________________________\n",
            "conv2d_2 (Conv2D)               (None, 256, 256, 32) 4640        max_pooling2d[0][0]              \n",
            "__________________________________________________________________________________________________\n",
            "activation_2 (Activation)       (None, 256, 256, 32) 0           conv2d_2[0][0]                   \n",
            "__________________________________________________________________________________________________\n",
            "conv2d_3 (Conv2D)               (None, 256, 256, 32) 9248        activation_2[0][0]               \n",
            "__________________________________________________________________________________________________\n",
            "activation_3 (Activation)       (None, 256, 256, 32) 0           conv2d_3[0][0]                   \n",
            "__________________________________________________________________________________________________\n",
            "max_pooling2d_1 (MaxPooling2D)  (None, 128, 128, 32) 0           activation_3[0][0]               \n",
            "__________________________________________________________________________________________________\n",
            "conv2d_4 (Conv2D)               (None, 128, 128, 64) 18496       max_pooling2d_1[0][0]            \n",
            "__________________________________________________________________________________________________\n",
            "activation_4 (Activation)       (None, 128, 128, 64) 0           conv2d_4[0][0]                   \n",
            "__________________________________________________________________________________________________\n",
            "conv2d_5 (Conv2D)               (None, 128, 128, 64) 36928       activation_4[0][0]               \n",
            "__________________________________________________________________________________________________\n",
            "activation_5 (Activation)       (None, 128, 128, 64) 0           conv2d_5[0][0]                   \n",
            "__________________________________________________________________________________________________\n",
            "max_pooling2d_2 (MaxPooling2D)  (None, 64, 64, 64)   0           activation_5[0][0]               \n",
            "__________________________________________________________________________________________________\n",
            "conv2d_6 (Conv2D)               (None, 64, 64, 128)  73856       max_pooling2d_2[0][0]            \n",
            "__________________________________________________________________________________________________\n",
            "activation_6 (Activation)       (None, 64, 64, 128)  0           conv2d_6[0][0]                   \n",
            "__________________________________________________________________________________________________\n",
            "conv2d_7 (Conv2D)               (None, 64, 64, 128)  147584      activation_6[0][0]               \n",
            "__________________________________________________________________________________________________\n",
            "activation_7 (Activation)       (None, 64, 64, 128)  0           conv2d_7[0][0]                   \n",
            "__________________________________________________________________________________________________\n",
            "max_pooling2d_3 (MaxPooling2D)  (None, 32, 32, 128)  0           activation_7[0][0]               \n",
            "__________________________________________________________________________________________________\n",
            "conv2d_8 (Conv2D)               (None, 32, 32, 256)  295168      max_pooling2d_3[0][0]            \n",
            "__________________________________________________________________________________________________\n",
            "activation_8 (Activation)       (None, 32, 32, 256)  0           conv2d_8[0][0]                   \n",
            "__________________________________________________________________________________________________\n",
            "conv2d_9 (Conv2D)               (None, 32, 32, 256)  590080      activation_8[0][0]               \n",
            "__________________________________________________________________________________________________\n",
            "activation_9 (Activation)       (None, 32, 32, 256)  0           conv2d_9[0][0]                   \n",
            "__________________________________________________________________________________________________\n",
            "conv2d_transpose (Conv2DTranspo (None, 64, 64, 128)  295040      activation_9[0][0]               \n",
            "__________________________________________________________________________________________________\n",
            "concatenate (Concatenate)       (None, 64, 64, 256)  0           conv2d_transpose[0][0]           \n",
            "                                                                 activation_7[0][0]               \n",
            "__________________________________________________________________________________________________\n",
            "conv2d_10 (Conv2D)              (None, 64, 64, 128)  295040      concatenate[0][0]                \n",
            "__________________________________________________________________________________________________\n",
            "activation_10 (Activation)      (None, 64, 64, 128)  0           conv2d_10[0][0]                  \n",
            "__________________________________________________________________________________________________\n",
            "conv2d_11 (Conv2D)              (None, 64, 64, 128)  147584      activation_10[0][0]              \n",
            "__________________________________________________________________________________________________\n",
            "activation_11 (Activation)      (None, 64, 64, 128)  0           conv2d_11[0][0]                  \n",
            "__________________________________________________________________________________________________\n",
            "conv2d_transpose_1 (Conv2DTrans (None, 128, 128, 64) 73792       activation_11[0][0]              \n",
            "__________________________________________________________________________________________________\n",
            "concatenate_1 (Concatenate)     (None, 128, 128, 128 0           conv2d_transpose_1[0][0]         \n",
            "                                                                 activation_5[0][0]               \n",
            "__________________________________________________________________________________________________\n",
            "conv2d_12 (Conv2D)              (None, 128, 128, 64) 73792       concatenate_1[0][0]              \n",
            "__________________________________________________________________________________________________\n",
            "activation_12 (Activation)      (None, 128, 128, 64) 0           conv2d_12[0][0]                  \n",
            "__________________________________________________________________________________________________\n",
            "conv2d_13 (Conv2D)              (None, 128, 128, 64) 36928       activation_12[0][0]              \n",
            "__________________________________________________________________________________________________\n",
            "activation_13 (Activation)      (None, 128, 128, 64) 0           conv2d_13[0][0]                  \n",
            "__________________________________________________________________________________________________\n",
            "conv2d_transpose_2 (Conv2DTrans (None, 256, 256, 32) 18464       activation_13[0][0]              \n",
            "__________________________________________________________________________________________________\n",
            "concatenate_2 (Concatenate)     (None, 256, 256, 64) 0           conv2d_transpose_2[0][0]         \n",
            "                                                                 activation_3[0][0]               \n",
            "__________________________________________________________________________________________________\n",
            "conv2d_14 (Conv2D)              (None, 256, 256, 32) 18464       concatenate_2[0][0]              \n",
            "__________________________________________________________________________________________________\n",
            "activation_14 (Activation)      (None, 256, 256, 32) 0           conv2d_14[0][0]                  \n",
            "__________________________________________________________________________________________________\n",
            "conv2d_15 (Conv2D)              (None, 256, 256, 32) 9248        activation_14[0][0]              \n",
            "__________________________________________________________________________________________________\n",
            "activation_15 (Activation)      (None, 256, 256, 32) 0           conv2d_15[0][0]                  \n",
            "__________________________________________________________________________________________________\n",
            "conv2d_transpose_3 (Conv2DTrans (None, 512, 512, 16) 4624        activation_15[0][0]              \n",
            "__________________________________________________________________________________________________\n",
            "concatenate_3 (Concatenate)     (None, 512, 512, 32) 0           conv2d_transpose_3[0][0]         \n",
            "                                                                 activation_1[0][0]               \n",
            "__________________________________________________________________________________________________\n",
            "conv2d_16 (Conv2D)              (None, 512, 512, 16) 4624        concatenate_3[0][0]              \n",
            "__________________________________________________________________________________________________\n",
            "activation_16 (Activation)      (None, 512, 512, 16) 0           conv2d_16[0][0]                  \n",
            "__________________________________________________________________________________________________\n",
            "conv2d_17 (Conv2D)              (None, 512, 512, 16) 2320        activation_16[0][0]              \n",
            "__________________________________________________________________________________________________\n",
            "activation_17 (Activation)      (None, 512, 512, 16) 0           conv2d_17[0][0]                  \n",
            "__________________________________________________________________________________________________\n",
            "conv2d_18 (Conv2D)              (None, 512, 512, 1)  17          activation_17[0][0]              \n",
            "==================================================================================================\n",
            "Total params: 2,158,705\n",
            "Trainable params: 2,158,705\n",
            "Non-trainable params: 0\n",
            "__________________________________________________________________________________________________\n"
          ],
          "name": "stdout"
        }
      ]
    },
    {
      "cell_type": "code",
      "metadata": {
        "id": "FQ0otLs2sHY_"
      },
      "source": [
        "callbacks = [\n",
        "    ModelCheckpoint('model-proba2.h5', verbose=1, save_best_only=True, save_weights_only=True)\n",
        "]"
      ],
      "execution_count": 19,
      "outputs": []
    },
    {
      "cell_type": "code",
      "metadata": {
        "colab": {
          "base_uri": "https://localhost:8080/"
        },
        "id": "9RX7Dt_ksWIL",
        "outputId": "adf6a90c-a665-47f8-effa-287e63bdbb96"
      },
      "source": [
        "results = model.fit(train_gen, batch_size=batch_size, epochs=10, callbacks=callbacks,\n",
        "                    validation_data=(val_gen))"
      ],
      "execution_count": 20,
      "outputs": [
        {
          "output_type": "stream",
          "text": [
            "Epoch 1/10\n",
            "38/38 [==============================] - 1060s 28s/step - loss: 1.9359 - accuracy: 0.1978 - val_loss: 0.6477 - val_accuracy: 0.3270\n",
            "\n",
            "Epoch 00001: val_loss improved from inf to 0.64772, saving model to model-proba2.h5\n",
            "Epoch 2/10\n",
            "38/38 [==============================] - 1016s 27s/step - loss: 0.6630 - accuracy: 0.2232 - val_loss: 0.6406 - val_accuracy: 0.3399\n",
            "\n",
            "Epoch 00002: val_loss improved from 0.64772 to 0.64064, saving model to model-proba2.h5\n",
            "Epoch 3/10\n",
            "38/38 [==============================] - 1020s 27s/step - loss: 0.6570 - accuracy: 0.2412 - val_loss: 0.6302 - val_accuracy: 0.3345\n",
            "\n",
            "Epoch 00003: val_loss improved from 0.64064 to 0.63025, saving model to model-proba2.h5\n",
            "Epoch 4/10\n",
            "38/38 [==============================] - 1026s 27s/step - loss: 0.6449 - accuracy: 0.2278 - val_loss: 0.6374 - val_accuracy: 0.3100\n",
            "\n",
            "Epoch 00004: val_loss did not improve from 0.63025\n",
            "Epoch 5/10\n",
            "38/38 [==============================] - 1023s 27s/step - loss: 0.6325 - accuracy: 0.2476 - val_loss: 0.6290 - val_accuracy: 0.3667\n",
            "\n",
            "Epoch 00005: val_loss improved from 0.63025 to 0.62896, saving model to model-proba2.h5\n",
            "Epoch 6/10\n",
            "38/38 [==============================] - 1022s 27s/step - loss: 0.6407 - accuracy: 0.2470 - val_loss: 0.6281 - val_accuracy: 0.3456\n",
            "\n",
            "Epoch 00006: val_loss improved from 0.62896 to 0.62811, saving model to model-proba2.h5\n",
            "Epoch 7/10\n",
            "38/38 [==============================] - 1020s 27s/step - loss: 0.6292 - accuracy: 0.2562 - val_loss: 0.6317 - val_accuracy: 0.3279\n",
            "\n",
            "Epoch 00007: val_loss did not improve from 0.62811\n",
            "Epoch 8/10\n",
            "38/38 [==============================] - 1023s 27s/step - loss: 0.6270 - accuracy: 0.2519 - val_loss: 0.6316 - val_accuracy: 0.3325\n",
            "\n",
            "Epoch 00008: val_loss did not improve from 0.62811\n",
            "Epoch 9/10\n",
            "38/38 [==============================] - 1023s 27s/step - loss: 0.6363 - accuracy: 0.2485 - val_loss: 0.6325 - val_accuracy: 0.3328\n",
            "\n",
            "Epoch 00009: val_loss did not improve from 0.62811\n",
            "Epoch 10/10\n",
            "38/38 [==============================] - 1016s 27s/step - loss: 0.6324 - accuracy: 0.2471 - val_loss: 0.6285 - val_accuracy: 0.3229\n",
            "\n",
            "Epoch 00010: val_loss did not improve from 0.62811\n"
          ],
          "name": "stdout"
        }
      ]
    },
    {
      "cell_type": "code",
      "metadata": {
        "colab": {
          "base_uri": "https://localhost:8080/",
          "height": 1000
        },
        "id": "B7y9OCzbssRc",
        "outputId": "52cb5c03-96bb-49f4-f1e1-6d161ced20d3"
      },
      "source": [
        "val_gen = FESB_MLID(\n",
        "    batch_size, img_width, img_height, val_input_img_paths, val_target_img_paths)\n",
        "val_preds = model.predict(val_gen)\n",
        "\n",
        "\n",
        "def display_mask(i):\n",
        "    \"\"\"Quick utility to display a model's prediction.\"\"\"\n",
        "    mask = np.argmax(val_preds[i], axis=-1)\n",
        "    mask = np.expand_dims(mask, axis=-1)\n",
        "    img = PIL.ImageOps.autocontrast(keras.preprocessing.image.array_to_img(mask))\n",
        "    display(img)\n",
        "\n",
        "i = 19\n",
        "\n",
        "# Display input image\n",
        "display(Image(filename=val_input_img_paths[i]))\n",
        "\n",
        "# Display ground-truth target mask\n",
        "img = PIL.ImageOps.autocontrast(load_img(val_target_img_paths[i]))\n",
        "display(img)"
      ],
      "execution_count": 23,
      "outputs": [
        {
          "output_type": "display_data",
          "data": {
            "image/jpeg": "[encoded data removed]",
            "text/plain": [
              "<IPython.core.display.Image object>"
            ]
          },
          "metadata": {
            "tags": []
          }
        },
        {
          "output_type": "display_data",
          "data": {
            "image/png": "[encoded data removed]",
            "text/plain": [
              "<PIL.Image.Image image mode=RGB size=768x576 at 0x7F60C1ADA4D0>"
            ]
          },
          "metadata": {
            "tags": []
          }
        }
      ]
    },
    {
      "cell_type": "code",
      "metadata": {
        "colab": {
          "base_uri": "https://localhost:8080/",
          "height": 529
        },
        "id": "MdgQWHgFEt40",
        "outputId": "9c6086a1-ce61-4209-fada-0003e3a9b814"
      },
      "source": [
        "# Display mask predicted by our model\n",
        "display_mask(i)\n",
        "\n",
        "img = PIL.ImageOps.autocontrast(load_img(val_target_img_paths[i]))\n",
        "display(img)"
      ],
      "execution_count": 24,
      "outputs": [
        {
          "output_type": "display_data",
          "data": {
            "image/png": "[encoded data removed]",
            "text/plain": [
              "<PIL.Image.Image image mode=L size=512x512 at 0x7F60C1A3BA10>"
            ]
          },
          "metadata": {
            "tags": []
          }
        }
      ]
    },
    {
      "cell_type": "code",
      "metadata": {
        "id": "A04skemjEvRz"
      },
      "source": [
        ""
      ],
      "execution_count": null,
      "outputs": []
    }
  ]
}