{
 "metadata": {
  "language_info": {
   "codemirror_mode": {
    "name": "ipython",
    "version": 3
   },
   "file_extension": ".py",
   "mimetype": "text/x-python",
   "name": "python",
   "nbconvert_exporter": "python",
   "pygments_lexer": "ipython3",
   "version": "3.8.3-final"
  },
  "orig_nbformat": 2,
  "kernelspec": {
   "name": "python3",
   "display_name": "Python 3.8.3 64-bit ('base': conda)",
   "metadata": {
    "interpreter": {
     "hash": "dca0ade3e726a953b501b15e8e990130d2b7799f14cfd9f4271676035ebe5511"
    }
   }
  }
 },
 "nbformat": 4,
 "nbformat_minor": 2,
 "cells": [
  {
   "cell_type": "code",
   "execution_count": 1,
   "metadata": {},
   "outputs": [],
   "source": [
    "import cv2\n",
    "import numpy as np\n",
    "import matplotlib.pyplot as plt\n",
    "import PIL"
   ]
  },
  {
   "cell_type": "code",
   "execution_count": 2,
   "metadata": {},
   "outputs": [],
   "source": [
    "GLOBAL_ARRAY = []"
   ]
  },
  {
   "cell_type": "code",
   "execution_count": 3,
   "metadata": {},
   "outputs": [],
   "source": [
    "data_directory_labels = \".../proba/train_labels\"\n",
    "data_directory_images = \".../proba/train_images\""
   ]
  },
  {
   "cell_type": "code",
   "execution_count": 4,
   "metadata": {},
   "outputs": [],
   "source": [
    "classes = {'unknown': (0,0,0),'smoke': (23, 23, 23), 'clouds and fog': (46, 46, 46), 'sun and sun effects': (69, 69, 69), 'sky': (92, 92, 92), 'sea': (115, 115, 115), 'distant landscape': (138, 138, 138), 'rocks': (161, 161, 161), 'distant vegetation': (184, 184, 184), 'close vegetation': (207, 207, 207), 'low vegetation and farms': (230, 230, 230), 'buildings': (253, 253, 253)}"
   ]
  },
  {
   "cell_type": "code",
   "execution_count": 5,
   "metadata": {},
   "outputs": [],
   "source": [
    "list_of_class_names= []\n",
    "list_of_RGBs = []\n",
    "\n",
    "for element in classes:\n",
    "    # print(element)\n",
    "    list_of_class_names.append(element)\n",
    "    RGB_value = classes.get(element)\n",
    "    # print(RGB_value)\n",
    "    list_of_RGBs.append(RGB_value)\n",
    "\n",
    "# print(list_of_class_names)\n",
    "# print(list_of_RGBs)"
   ]
  },
  {
   "cell_type": "code",
   "execution_count": 6,
   "metadata": {},
   "outputs": [
    {
     "output_type": "stream",
     "name": "stdout",
     "text": [
      "56\n"
     ]
    }
   ],
   "source": [
    "my_images = []\n",
    "dirFiles = os.listdir(data_directory_images)\n",
    "dirFiles.sort()\n",
    "sorted(dirFiles)\n",
    "\n",
    "for files in dirFiles: #filter out all non jpgs\n",
    "    if '.jpg' in files:\n",
    "        my_images.append(files)\n",
    "print(len(my_images))\n",
    "# print(my_images)"
   ]
  },
  {
   "cell_type": "code",
   "execution_count": 7,
   "metadata": {},
   "outputs": [
    {
     "output_type": "stream",
     "name": "stdout",
     "text": [
      "56\n"
     ]
    }
   ],
   "source": [
    "my_labels_images = []\n",
    "dirFiles = os.listdir(data_directory_labels)\n",
    "dirFiles.sort()\n",
    "sorted(dirFiles)\n",
    "\n",
    "for files in dirFiles:\n",
    "    if '.bmp' in files:\n",
    "        my_labels_images.append(files)\n",
    "print(len(my_labels_images))\n",
    "#print(my_labels_images)"
   ]
  },
  {
   "cell_type": "code",
   "execution_count": 8,
   "metadata": {},
   "outputs": [
    {
     "output_type": "stream",
     "name": "stdout",
     "text": [
      "extracting classes from sorted train lables array...\n",
      "\n",
      "56\n"
     ]
    }
   ],
   "source": [
    "train_labels_colors = []\n",
    "\n",
    "def get_all_colors(lables_list, path_to_array, list_to_save_to):\n",
    "    for img in lables_list:\n",
    "        path_string = os.path.join(path_to_array, img)\n",
    "        colors = PIL.Image.open(path_string).getcolors(256)\n",
    "\n",
    "        list_to_save_to.append(colors)\n",
    "\n",
    "# ekstrahiranje klasa iz gt slika\n",
    "\n",
    "print(\"extracting classes from sorted train lables array...\\n\")\n",
    "get_all_colors(my_labels_images, data_directory_labels, train_labels_colors)\n",
    "print(len(train_labels_colors))"
   ]
  },
  {
   "cell_type": "code",
   "execution_count": 9,
   "metadata": {},
   "outputs": [
    {
     "output_type": "stream",
     "name": "stdout",
     "text": [
      "extracting only the RGB values for train labels...\nTrain labels list has 56 elements\n\n"
     ]
    }
   ],
   "source": [
    "# izvlačenje samo RGB vrijednosti i njihovo spremanje u niz\n",
    "\n",
    "train_labels_list = []\n",
    "\n",
    "def colors_to_list(list_with_tuples, list_to_save_to):\n",
    "    for color in range(len(list_with_tuples)):\n",
    "        temp_list = []\n",
    "        for class_color in range(len(list_with_tuples[color])):\n",
    "            temp_list.append(list_with_tuples[color][class_color][1])\n",
    "        list_to_save_to.append(temp_list)\n",
    "\n",
    "print(\"extracting only the RGB values for train labels...\")\n",
    "colors_to_list(train_labels_colors, train_labels_list)\n",
    "print(f\"Train labels list has {len(train_labels_list)} elements\\n\")"
   ]
  },
  {
   "cell_type": "code",
   "execution_count": 10,
   "metadata": {},
   "outputs": [],
   "source": [
    "# input list sadrži (x, x, x) elemente\n",
    "# train_labels_for_one = []\n",
    "\n",
    "def one_hot_encoding (input_list, list_of_RGBS):\n",
    "    output_list = []\n",
    "    # print(output_list)\n",
    "    for element in range(12):\n",
    "        if list_of_RGBs[element] in input_list: # ako je element iz RGB-a u ulaznoj listi\n",
    "            # print(list_of_RGBs[element])\n",
    "            # print(input_list)\n",
    "            # print(\"There is a value\")\n",
    "            output_list.append(1) # na taj indeks stavi jedinicu\n",
    "        else:\n",
    "            output_list.append(0)\n",
    "        # print(output_list)\n",
    "    GLOBAL_ARRAY.append(output_list)"
   ]
  },
  {
   "cell_type": "code",
   "execution_count": 11,
   "metadata": {},
   "outputs": [],
   "source": [
    "for element in range(len(train_labels_list)):\n",
    "    one_hot_encoding(train_labels_list[element], list_of_RGBs)"
   ]
  },
  {
   "cell_type": "code",
   "execution_count": 12,
   "metadata": {},
   "outputs": [
    {
     "output_type": "execute_result",
     "data": {
      "text/plain": [
       "56"
      ]
     },
     "metadata": {},
     "execution_count": 12
    }
   ],
   "source": [
    "len(GLOBAL_ARRAY)"
   ]
  },
  {
   "cell_type": "code",
   "execution_count": 13,
   "metadata": {},
   "outputs": [
    {
     "output_type": "execute_result",
     "data": {
      "text/plain": [
       "list"
      ]
     },
     "metadata": {},
     "execution_count": 13
    }
   ],
   "source": [
    "type(GLOBAL_ARRAY[1])"
   ]
  },
  {
   "cell_type": "code",
   "execution_count": null,
   "metadata": {},
   "outputs": [],
   "source": [
    "training_data = []\n",
    "\n",
    "def create_training_data():\n",
    "     for category in categories:\n",
    "        path = os.path.join(data_directory, category) # path to cats or dog dir\n",
    "        class_num = categories.index(category)\n",
    "        for img in os.listdir(path):\n",
    "            try:\n",
    "                img_array = cv2.imread(os.path.join(path, img), cv2.IMREAD_GRAYSCALE)\n",
    "                new_array = cv2.resize(img_array, (img_size, img_size))\n",
    "                training_data.append([new_array, class_num])\n",
    "            except Exception as e:\n",
    "                pass\n",
    "    for image in range(len(my_images[:3])):\n",
    "        path = data_directory_images\n",
    "        try:\n",
    "            img_array = cv.imread(os.path.join(path, my_images[image]))\n",
    "            new_array = cv2.resize(img_array, (400, 400, 3))\n",
    "            # label = GLOBAL_ARRAY[]\n",
    "        except Exception as e:\n",
    "            pass\n",
    "\n",
    "create_training_data()"
   ]
  },
  {
   "cell_type": "code",
   "execution_count": 24,
   "metadata": {},
   "outputs": [],
   "source": [
    "training_data = []\n",
    "\n",
    "def create_training_data():\n",
    "    for image in range(len(my_images[:3])):\n",
    "        path = data_directory_images\n",
    "        try:\n",
    "            img_array = cv2.imread(os.path.join(path, my_images[image]))\n",
    "            new_array = cv2.resize(img_array, (500, 400))\n",
    "            label = GLOBAL_ARRAY[element]\n",
    "            #plt.imshow(new_array)\n",
    "            #plt.show()\n",
    "\n",
    "            training_data.append([new_array, label])\n",
    "            #print(training_data[element])\n",
    "        except Exception as e:\n",
    "            pass\n",
    "\n",
    "create_training_data()"
   ]
  },
  {
   "cell_type": "code",
   "execution_count": 26,
   "metadata": {},
   "outputs": [
    {
     "output_type": "stream",
     "name": "stdout",
     "text": [
      "3\n"
     ]
    }
   ],
   "source": [
    "print(len(training_data))"
   ]
  },
  {
   "cell_type": "code",
   "execution_count": 27,
   "metadata": {},
   "outputs": [
    {
     "output_type": "execute_result",
     "data": {
      "text/plain": [
       "list"
      ]
     },
     "metadata": {},
     "execution_count": 27
    }
   ],
   "source": [
    "type(training_data)"
   ]
  },
  {
   "cell_type": "code",
   "execution_count": 28,
   "metadata": {},
   "outputs": [
    {
     "output_type": "execute_result",
     "data": {
      "text/plain": [
       "list"
      ]
     },
     "metadata": {},
     "execution_count": 28
    }
   ],
   "source": [
    "type(training_data[0])"
   ]
  },
  {
   "cell_type": "code",
   "execution_count": 29,
   "metadata": {},
   "outputs": [
    {
     "output_type": "stream",
     "name": "stdout",
     "text": [
      "[array([[[238, 209, 172],\n        [239, 209, 172],\n        [239, 210, 173],\n        ...,\n        [185, 175, 157],\n        [186, 174, 156],\n        [186, 174, 156]],\n\n       [[239, 210, 173],\n        [240, 211, 174],\n        [240, 211, 175],\n        ...,\n        [186, 175, 157],\n        [186, 175, 157],\n        [186, 174, 156]],\n\n       [[238, 209, 172],\n        [238, 209, 172],\n        [239, 210, 173],\n        ...,\n        [187, 175, 157],\n        [187, 175, 157],\n        [187, 175, 157]],\n\n       ...,\n\n       [[127, 109,  78],\n        [120, 102,  71],\n        [117,  99,  68],\n        ...,\n        [ 95,  84,  57],\n        [ 97,  86,  59],\n        [103,  92,  65]],\n\n       [[128, 111,  78],\n        [132, 114,  82],\n        [124, 107,  75],\n        ...,\n        [ 99,  88,  61],\n        [101,  90,  63],\n        [103,  92,  65]],\n\n       [[129, 112,  79],\n        [122, 105,  72],\n        [126, 109,  76],\n        ...,\n        [ 91,  80,  53],\n        [ 81,  69,  42],\n        [ 70,  59,  32]]], dtype=uint8), [1, 0, 0, 0, 1, 1, 1, 1, 1, 1, 0, 0]]\n"
     ]
    }
   ],
   "source": [
    "print(training_data[0])"
   ]
  },
  {
   "cell_type": "code",
   "execution_count": 30,
   "metadata": {},
   "outputs": [
    {
     "output_type": "execute_result",
     "data": {
      "text/plain": [
       "numpy.ndarray"
      ]
     },
     "metadata": {},
     "execution_count": 30
    }
   ],
   "source": [
    "type(training_data[0][0])"
   ]
  },
  {
   "cell_type": "code",
   "execution_count": 31,
   "metadata": {},
   "outputs": [
    {
     "output_type": "execute_result",
     "data": {
      "text/plain": [
       "list"
      ]
     },
     "metadata": {},
     "execution_count": 31
    }
   ],
   "source": [
    "type(training_data[0][1])"
   ]
  },
  {
   "cell_type": "code",
   "execution_count": null,
   "metadata": {},
   "outputs": [],
   "source": []
  }
 ]
}